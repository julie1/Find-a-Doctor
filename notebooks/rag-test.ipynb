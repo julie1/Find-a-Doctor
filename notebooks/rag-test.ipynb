{
 "cells": [
  {
   "cell_type": "code",
   "execution_count": 1,
   "id": "deb53424-5e8a-4de2-895b-aa88a13b0bed",
   "metadata": {},
   "outputs": [
    {
     "name": "stdout",
     "output_type": "stream",
     "text": [
      "--2024-09-30 22:16:05--  https://raw.githubusercontent.com/alexeygrigorev/minsearch/main/minsearch.py\n",
      "Resolving raw.githubusercontent.com (raw.githubusercontent.com)... 2606:50c0:8000::154, 2606:50c0:8003::154, 2606:50c0:8001::154, ...\n",
      "Connecting to raw.githubusercontent.com (raw.githubusercontent.com)|2606:50c0:8000::154|:443... connected.\n",
      "HTTP request sent, awaiting response... 200 OK\n",
      "Length: 3832 (3.7K) [text/plain]\n",
      "Saving to: ‘minsearch.py.1’\n",
      "\n",
      "minsearch.py.1      100%[===================>]   3.74K  --.-KB/s    in 0.002s  \n",
      "\n",
      "2024-09-30 22:16:06 (1.93 MB/s) - ‘minsearch.py.1’ saved [3832/3832]\n",
      "\n"
     ]
    }
   ],
   "source": [
    "!wget https://raw.githubusercontent.com/alexeygrigorev/minsearch/main/minsearch.py"
   ]
  },
  {
   "cell_type": "code",
   "execution_count": 1,
   "id": "f35b1666-5393-458a-b747-177c1a1525ca",
   "metadata": {},
   "outputs": [],
   "source": [
    "import pandas as pd"
   ]
  },
  {
   "cell_type": "markdown",
   "id": "28f98df4-326c-4a0f-95a3-2441e1ced3ca",
   "metadata": {},
   "source": [
    "## Ingestion"
   ]
  },
  {
   "cell_type": "code",
   "execution_count": 2,
   "id": "acee6281-a506-4dc0-9f82-8b2ad48346ee",
   "metadata": {},
   "outputs": [],
   "source": [
    "df = pd.read_csv('../Find-a-Doctor/data/hip_surgeons.csv')"
   ]
  },
  {
   "cell_type": "code",
   "execution_count": 3,
   "id": "3cb61ed6-815f-47a6-8e5d-39ddca63982d",
   "metadata": {},
   "outputs": [],
   "source": [
    "import minsearch"
   ]
  },
  {
   "cell_type": "code",
   "execution_count": 4,
   "id": "d364afb4-19fa-4695-a84d-0fc065f8aaab",
   "metadata": {},
   "outputs": [
    {
     "name": "stdout",
     "output_type": "stream",
     "text": [
      "['orthopedic_surgeon_first_name', 'orthopedic_surgeon_surname', 'jpg_doctor', 'born_year', 'address', 'street', 'local', 'city', 'postal_code', 'country', 'phone_normal', 'phone_free_of_charge', 'fax', 'mobile', 'email', 'homepage', 'number_hr', 'adjusted', 'number_thr', 'number_bmhr', 'type_of_hr_prosthesis', 'type_of_thr_prosthesis', 'operational_technique', 'anesthetic', 'cement_femur_side', 'this_joint_capsule_saved_all', 'cut_muscles_is_fixed_again', 'complete_opera_report_is_given', 'hr_average_size', 'hr_average_location', 'assesses_x-ray', 'x-ray_at_discharge', 'two-sided_operation', 'foreign_patients', 'patient-reported_positive_outcomes', 'patient-reported_complications']\n"
     ]
    }
   ],
   "source": [
    "columns = df.columns.tolist()\n",
    "print(columns)"
   ]
  },
  {
   "cell_type": "code",
   "execution_count": 5,
   "id": "9fb50737-008d-4ce8-88a4-c6f450751009",
   "metadata": {},
   "outputs": [
    {
     "data": {
      "text/html": [
       "<div>\n",
       "<style scoped>\n",
       "    .dataframe tbody tr th:only-of-type {\n",
       "        vertical-align: middle;\n",
       "    }\n",
       "\n",
       "    .dataframe tbody tr th {\n",
       "        vertical-align: top;\n",
       "    }\n",
       "\n",
       "    .dataframe thead th {\n",
       "        text-align: right;\n",
       "    }\n",
       "</style>\n",
       "<table border=\"1\" class=\"dataframe\">\n",
       "  <thead>\n",
       "    <tr style=\"text-align: right;\">\n",
       "      <th></th>\n",
       "      <th>id</th>\n",
       "      <th>orthopedic_surgeon_first_name</th>\n",
       "      <th>orthopedic_surgeon_surname</th>\n",
       "      <th>jpg_doctor</th>\n",
       "      <th>born_year</th>\n",
       "      <th>address</th>\n",
       "      <th>street</th>\n",
       "      <th>local</th>\n",
       "      <th>city</th>\n",
       "      <th>postal_code</th>\n",
       "      <th>...</th>\n",
       "      <th>cut_muscles_is_fixed_again</th>\n",
       "      <th>complete_opera_report_is_given</th>\n",
       "      <th>hr_average_size</th>\n",
       "      <th>hr_average_location</th>\n",
       "      <th>assesses_x-ray</th>\n",
       "      <th>x-ray_at_discharge</th>\n",
       "      <th>two-sided_operation</th>\n",
       "      <th>foreign_patients</th>\n",
       "      <th>patient-reported_positive_outcomes</th>\n",
       "      <th>patient-reported_complications</th>\n",
       "    </tr>\n",
       "  </thead>\n",
       "  <tbody>\n",
       "    <tr>\n",
       "      <th>0</th>\n",
       "      <td>0</td>\n",
       "      <td>Michael</td>\n",
       "      <td>Anderson</td>\n",
       "      <td>missing_value</td>\n",
       "      <td>missing_value</td>\n",
       "      <td>Murdoch University Medical\\n  Centre</td>\n",
       "      <td>100 Murdoch Drive</td>\n",
       "      <td>Suite 10</td>\n",
       "      <td>Murdoch</td>\n",
       "      <td>W-A</td>\n",
       "      <td>...</td>\n",
       "      <td>missing_value</td>\n",
       "      <td>missing_value</td>\n",
       "      <td>missing_value</td>\n",
       "      <td>missing_value</td>\n",
       "      <td>missing_value</td>\n",
       "      <td>missing_value</td>\n",
       "      <td>missing_value</td>\n",
       "      <td>missing_value</td>\n",
       "      <td>No</td>\n",
       "      <td>missing_value</td>\n",
       "    </tr>\n",
       "    <tr>\n",
       "      <th>1</th>\n",
       "      <td>1</td>\n",
       "      <td>Neil</td>\n",
       "      <td>Bergman</td>\n",
       "      <td>X (doctors/neilbergman.jpg)</td>\n",
       "      <td>missing_value</td>\n",
       "      <td>Warringal Medical\\n  Centre</td>\n",
       "      <td>214 Burgundy Street</td>\n",
       "      <td>Suite 10</td>\n",
       "      <td>Heidelberg</td>\n",
       "      <td>VIC 3084</td>\n",
       "      <td>...</td>\n",
       "      <td>missing_value</td>\n",
       "      <td>missing_value</td>\n",
       "      <td>missing_value</td>\n",
       "      <td>missing_value</td>\n",
       "      <td>missing_value</td>\n",
       "      <td>missing_value</td>\n",
       "      <td>missing_value</td>\n",
       "      <td>missing_value</td>\n",
       "      <td>No</td>\n",
       "      <td>missing_value</td>\n",
       "    </tr>\n",
       "    <tr>\n",
       "      <th>2</th>\n",
       "      <td>2</td>\n",
       "      <td>Roger</td>\n",
       "      <td>Brighton</td>\n",
       "      <td>X (doctors/rogerbrighton.jpg)</td>\n",
       "      <td>missing_value</td>\n",
       "      <td>Central West Orthopaedics\\n  &amp; Sports Injuries</td>\n",
       "      <td>30 Campbell Street</td>\n",
       "      <td>Suite 204</td>\n",
       "      <td>Blacktown</td>\n",
       "      <td>NSW 2148</td>\n",
       "      <td>...</td>\n",
       "      <td>missing_value</td>\n",
       "      <td>missing_value</td>\n",
       "      <td>missing_value</td>\n",
       "      <td>missing_value</td>\n",
       "      <td>missing_value</td>\n",
       "      <td>missing_value</td>\n",
       "      <td>missing_value</td>\n",
       "      <td>missing_value</td>\n",
       "      <td>No</td>\n",
       "      <td>missing_value</td>\n",
       "    </tr>\n",
       "    <tr>\n",
       "      <th>3</th>\n",
       "      <td>3</td>\n",
       "      <td>Roderick</td>\n",
       "      <td>Brooks</td>\n",
       "      <td>X (doctors/roderickbrooks.jpg)</td>\n",
       "      <td>missing_value</td>\n",
       "      <td>missing_value</td>\n",
       "      <td>2 Redleaf Avenue</td>\n",
       "      <td>missing_value</td>\n",
       "      <td>Wahroonga</td>\n",
       "      <td>NSW 2076</td>\n",
       "      <td>...</td>\n",
       "      <td>missing_value</td>\n",
       "      <td>missing_value</td>\n",
       "      <td>missing_value</td>\n",
       "      <td>missing_value</td>\n",
       "      <td>missing_value</td>\n",
       "      <td>missing_value</td>\n",
       "      <td>missing_value</td>\n",
       "      <td>missing_value</td>\n",
       "      <td>No</td>\n",
       "      <td>missing_value</td>\n",
       "    </tr>\n",
       "    <tr>\n",
       "      <th>4</th>\n",
       "      <td>4</td>\n",
       "      <td>Rodney E.</td>\n",
       "      <td>Dalziel</td>\n",
       "      <td>X (doctors/roddalziel.jpg)</td>\n",
       "      <td>missing_value</td>\n",
       "      <td>Melbourne Orthopaedic Group</td>\n",
       "      <td>33 The Avenue Street</td>\n",
       "      <td>Windsor</td>\n",
       "      <td>Melbourne</td>\n",
       "      <td>VIC 3181</td>\n",
       "      <td>...</td>\n",
       "      <td>missing_value</td>\n",
       "      <td>missing_value</td>\n",
       "      <td>missing_value</td>\n",
       "      <td>missing_value</td>\n",
       "      <td>missing_value</td>\n",
       "      <td>missing_value</td>\n",
       "      <td>missing_value</td>\n",
       "      <td>missing_value</td>\n",
       "      <td>No</td>\n",
       "      <td>missing_value</td>\n",
       "    </tr>\n",
       "    <tr>\n",
       "      <th>...</th>\n",
       "      <td>...</td>\n",
       "      <td>...</td>\n",
       "      <td>...</td>\n",
       "      <td>...</td>\n",
       "      <td>...</td>\n",
       "      <td>...</td>\n",
       "      <td>...</td>\n",
       "      <td>...</td>\n",
       "      <td>...</td>\n",
       "      <td>...</td>\n",
       "      <td>...</td>\n",
       "      <td>...</td>\n",
       "      <td>...</td>\n",
       "      <td>...</td>\n",
       "      <td>...</td>\n",
       "      <td>...</td>\n",
       "      <td>...</td>\n",
       "      <td>...</td>\n",
       "      <td>...</td>\n",
       "      <td>...</td>\n",
       "      <td>...</td>\n",
       "    </tr>\n",
       "    <tr>\n",
       "      <th>1027</th>\n",
       "      <td>1027</td>\n",
       "      <td>John A.</td>\n",
       "      <td>Evans</td>\n",
       "      <td>missing_value</td>\n",
       "      <td>missing_value</td>\n",
       "      <td>missing_value</td>\n",
       "      <td>414 Navarro Street</td>\n",
       "      <td>Suite 1128</td>\n",
       "      <td>San Antonio</td>\n",
       "      <td>TX 78205</td>\n",
       "      <td>...</td>\n",
       "      <td>missing_value</td>\n",
       "      <td>missing_value</td>\n",
       "      <td>missing_value</td>\n",
       "      <td>missing_value</td>\n",
       "      <td>missing_value</td>\n",
       "      <td>missing_value</td>\n",
       "      <td>missing_value</td>\n",
       "      <td>missing_value</td>\n",
       "      <td>Yes</td>\n",
       "      <td>missing_value</td>\n",
       "    </tr>\n",
       "    <tr>\n",
       "      <th>1028</th>\n",
       "      <td>1028</td>\n",
       "      <td>M. Christine</td>\n",
       "      <td>Young</td>\n",
       "      <td>missing_value</td>\n",
       "      <td>missing_value</td>\n",
       "      <td>Fracture Clinic</td>\n",
       "      <td>4040 Finch Avenue East</td>\n",
       "      <td>Suite 205</td>\n",
       "      <td>Scarborough</td>\n",
       "      <td>Ontarion MIS 4V5</td>\n",
       "      <td>...</td>\n",
       "      <td>missing_value</td>\n",
       "      <td>missing_value</td>\n",
       "      <td>missing_value</td>\n",
       "      <td>missing_value</td>\n",
       "      <td>missing_value</td>\n",
       "      <td>missing_value</td>\n",
       "      <td>missing_value</td>\n",
       "      <td>missing_value</td>\n",
       "      <td>Yes</td>\n",
       "      <td>missing_value</td>\n",
       "    </tr>\n",
       "    <tr>\n",
       "      <th>1029</th>\n",
       "      <td>1029</td>\n",
       "      <td>Myung Chul</td>\n",
       "      <td>Yoo</td>\n",
       "      <td>missing_value</td>\n",
       "      <td>missing_value</td>\n",
       "      <td>Dept. of Orthopedic Surgery Kyung Hee Universi...</td>\n",
       "      <td>Sangil-dong, Gangdong-gu</td>\n",
       "      <td>#149</td>\n",
       "      <td>Seoul 134-727</td>\n",
       "      <td>Korea</td>\n",
       "      <td>...</td>\n",
       "      <td>missing_value</td>\n",
       "      <td>missing_value</td>\n",
       "      <td>missing_value</td>\n",
       "      <td>missing_value</td>\n",
       "      <td>missing_value</td>\n",
       "      <td>missing_value</td>\n",
       "      <td>missing_value</td>\n",
       "      <td>missing_value</td>\n",
       "      <td>Yes</td>\n",
       "      <td>missing_value</td>\n",
       "    </tr>\n",
       "    <tr>\n",
       "      <th>1030</th>\n",
       "      <td>1030</td>\n",
       "      <td>Andrew</td>\n",
       "      <td>Pearson</td>\n",
       "      <td>missing_value</td>\n",
       "      <td>missing_value</td>\n",
       "      <td>Birmingham Hip Clinic BMI Priory Hospital</td>\n",
       "      <td>Priory Road</td>\n",
       "      <td>missing_value</td>\n",
       "      <td>Edgbaston</td>\n",
       "      <td>Birmingham B5 7UG</td>\n",
       "      <td>...</td>\n",
       "      <td>missing_value</td>\n",
       "      <td>missing_value</td>\n",
       "      <td>missing_value</td>\n",
       "      <td>missing_value</td>\n",
       "      <td>missing_value</td>\n",
       "      <td>missing_value</td>\n",
       "      <td>missing_value</td>\n",
       "      <td>missing_value</td>\n",
       "      <td>Yes</td>\n",
       "      <td>missing_value</td>\n",
       "    </tr>\n",
       "    <tr>\n",
       "      <th>1031</th>\n",
       "      <td>1031</td>\n",
       "      <td>John</td>\n",
       "      <td>Skinner</td>\n",
       "      <td>missing_value</td>\n",
       "      <td>missing_value</td>\n",
       "      <td>Royal National Orthopaedic Hospital</td>\n",
       "      <td>Brockley Hill</td>\n",
       "      <td>missing_value</td>\n",
       "      <td>Stanmore</td>\n",
       "      <td>Middlesex HA7 4LP</td>\n",
       "      <td>...</td>\n",
       "      <td>missing_value</td>\n",
       "      <td>missing_value</td>\n",
       "      <td>missing_value</td>\n",
       "      <td>missing_value</td>\n",
       "      <td>missing_value</td>\n",
       "      <td>missing_value</td>\n",
       "      <td>missing_value</td>\n",
       "      <td>missing_value</td>\n",
       "      <td>Yes</td>\n",
       "      <td>missing_value</td>\n",
       "    </tr>\n",
       "  </tbody>\n",
       "</table>\n",
       "<p>1032 rows × 37 columns</p>\n",
       "</div>"
      ],
      "text/plain": [
       "        id orthopedic_surgeon_first_name orthopedic_surgeon_surname  \\\n",
       "0        0                       Michael                   Anderson   \n",
       "1        1                          Neil                    Bergman   \n",
       "2        2                         Roger                   Brighton   \n",
       "3        3                      Roderick                     Brooks   \n",
       "4        4                     Rodney E.                    Dalziel   \n",
       "...    ...                           ...                        ...   \n",
       "1027  1027                       John A.                      Evans   \n",
       "1028  1028                  M. Christine                      Young   \n",
       "1029  1029                    Myung Chul                        Yoo   \n",
       "1030  1030                        Andrew                    Pearson   \n",
       "1031  1031                          John                    Skinner   \n",
       "\n",
       "                          jpg_doctor      born_year  \\\n",
       "0                      missing_value  missing_value   \n",
       "1        X (doctors/neilbergman.jpg)  missing_value   \n",
       "2      X (doctors/rogerbrighton.jpg)  missing_value   \n",
       "3     X (doctors/roderickbrooks.jpg)  missing_value   \n",
       "4         X (doctors/roddalziel.jpg)  missing_value   \n",
       "...                              ...            ...   \n",
       "1027                   missing_value  missing_value   \n",
       "1028                   missing_value  missing_value   \n",
       "1029                   missing_value  missing_value   \n",
       "1030                   missing_value  missing_value   \n",
       "1031                   missing_value  missing_value   \n",
       "\n",
       "                                                address  \\\n",
       "0                  Murdoch University Medical\\n  Centre   \n",
       "1                           Warringal Medical\\n  Centre   \n",
       "2        Central West Orthopaedics\\n  & Sports Injuries   \n",
       "3                                         missing_value   \n",
       "4                           Melbourne Orthopaedic Group   \n",
       "...                                                 ...   \n",
       "1027                                      missing_value   \n",
       "1028                                    Fracture Clinic   \n",
       "1029  Dept. of Orthopedic Surgery Kyung Hee Universi...   \n",
       "1030          Birmingham Hip Clinic BMI Priory Hospital   \n",
       "1031                Royal National Orthopaedic Hospital   \n",
       "\n",
       "                        street          local           city  \\\n",
       "0            100 Murdoch Drive       Suite 10        Murdoch   \n",
       "1          214 Burgundy Street       Suite 10     Heidelberg   \n",
       "2           30 Campbell Street      Suite 204      Blacktown   \n",
       "3             2 Redleaf Avenue  missing_value      Wahroonga   \n",
       "4         33 The Avenue Street        Windsor      Melbourne   \n",
       "...                        ...            ...            ...   \n",
       "1027        414 Navarro Street     Suite 1128    San Antonio   \n",
       "1028    4040 Finch Avenue East      Suite 205    Scarborough   \n",
       "1029  Sangil-dong, Gangdong-gu           #149  Seoul 134-727   \n",
       "1030               Priory Road  missing_value      Edgbaston   \n",
       "1031             Brockley Hill  missing_value       Stanmore   \n",
       "\n",
       "            postal_code  ... cut_muscles_is_fixed_again  \\\n",
       "0                   W-A  ...              missing_value   \n",
       "1              VIC 3084  ...              missing_value   \n",
       "2              NSW 2148  ...              missing_value   \n",
       "3              NSW 2076  ...              missing_value   \n",
       "4              VIC 3181  ...              missing_value   \n",
       "...                 ...  ...                        ...   \n",
       "1027           TX 78205  ...              missing_value   \n",
       "1028   Ontarion MIS 4V5  ...              missing_value   \n",
       "1029              Korea  ...              missing_value   \n",
       "1030  Birmingham B5 7UG  ...              missing_value   \n",
       "1031  Middlesex HA7 4LP  ...              missing_value   \n",
       "\n",
       "     complete_opera_report_is_given hr_average_size hr_average_location  \\\n",
       "0                     missing_value   missing_value       missing_value   \n",
       "1                     missing_value   missing_value       missing_value   \n",
       "2                     missing_value   missing_value       missing_value   \n",
       "3                     missing_value   missing_value       missing_value   \n",
       "4                     missing_value   missing_value       missing_value   \n",
       "...                             ...             ...                 ...   \n",
       "1027                  missing_value   missing_value       missing_value   \n",
       "1028                  missing_value   missing_value       missing_value   \n",
       "1029                  missing_value   missing_value       missing_value   \n",
       "1030                  missing_value   missing_value       missing_value   \n",
       "1031                  missing_value   missing_value       missing_value   \n",
       "\n",
       "     assesses_x-ray x-ray_at_discharge two-sided_operation foreign_patients  \\\n",
       "0     missing_value      missing_value       missing_value    missing_value   \n",
       "1     missing_value      missing_value       missing_value    missing_value   \n",
       "2     missing_value      missing_value       missing_value    missing_value   \n",
       "3     missing_value      missing_value       missing_value    missing_value   \n",
       "4     missing_value      missing_value       missing_value    missing_value   \n",
       "...             ...                ...                 ...              ...   \n",
       "1027  missing_value      missing_value       missing_value    missing_value   \n",
       "1028  missing_value      missing_value       missing_value    missing_value   \n",
       "1029  missing_value      missing_value       missing_value    missing_value   \n",
       "1030  missing_value      missing_value       missing_value    missing_value   \n",
       "1031  missing_value      missing_value       missing_value    missing_value   \n",
       "\n",
       "     patient-reported_positive_outcomes patient-reported_complications  \n",
       "0                                    No                  missing_value  \n",
       "1                                    No                  missing_value  \n",
       "2                                    No                  missing_value  \n",
       "3                                    No                  missing_value  \n",
       "4                                    No                  missing_value  \n",
       "...                                 ...                            ...  \n",
       "1027                                Yes                  missing_value  \n",
       "1028                                Yes                  missing_value  \n",
       "1029                                Yes                  missing_value  \n",
       "1030                                Yes                  missing_value  \n",
       "1031                                Yes                  missing_value  \n",
       "\n",
       "[1032 rows x 37 columns]"
      ]
     },
     "execution_count": 5,
     "metadata": {},
     "output_type": "execute_result"
    }
   ],
   "source": [
    "df.insert(0, 'id', df.index)\n",
    "df"
   ]
  },
  {
   "cell_type": "code",
   "execution_count": 6,
   "id": "267f9429-4f31-4750-bdf4-84d0a3ec554a",
   "metadata": {},
   "outputs": [],
   "source": [
    "\n",
    "index = minsearch.Index(\n",
    "    text_fields=columns,\n",
    "    keyword_fields=['id']\n",
    ")"
   ]
  },
  {
   "cell_type": "code",
   "execution_count": 7,
   "id": "92bdbd8d-eef7-4f2a-a55b-37e7c17f17b6",
   "metadata": {},
   "outputs": [],
   "source": [
    "documents = df.to_dict(orient='records')"
   ]
  },
  {
   "cell_type": "code",
   "execution_count": 8,
   "id": "93580f1a-92dd-4935-9fc7-2072dfd45a41",
   "metadata": {},
   "outputs": [
    {
     "data": {
      "text/plain": [
       "1032"
      ]
     },
     "execution_count": 8,
     "metadata": {},
     "output_type": "execute_result"
    }
   ],
   "source": [
    "len(documents)"
   ]
  },
  {
   "cell_type": "code",
   "execution_count": 9,
   "id": "3356cef3-c35f-485e-af94-29da0855f2ad",
   "metadata": {
    "scrolled": true
   },
   "outputs": [
    {
     "data": {
      "text/plain": [
       "0"
      ]
     },
     "execution_count": 9,
     "metadata": {},
     "output_type": "execute_result"
    }
   ],
   "source": [
    "documents[0]['id']"
   ]
  },
  {
   "cell_type": "code",
   "execution_count": 8,
   "id": "d734c998-f4a5-4390-9708-6c1edda23348",
   "metadata": {},
   "outputs": [
    {
     "data": {
      "text/plain": [
       "<minsearch.Index at 0x74cb7c178e30>"
      ]
     },
     "execution_count": 8,
     "metadata": {},
     "output_type": "execute_result"
    }
   ],
   "source": [
    "index.fit(documents)"
   ]
  },
  {
   "cell_type": "code",
   "execution_count": 11,
   "id": "020d9b50-39c4-423a-909a-3fc120e6980f",
   "metadata": {},
   "outputs": [],
   "source": [
    "query = 'Give me a list of 10 not recommended hip_surgeons from the USA'"
   ]
  },
  {
   "cell_type": "code",
   "execution_count": 12,
   "id": "1d85acdf-c620-45f1-a600-21e804731634",
   "metadata": {
    "scrolled": true
   },
   "outputs": [
    {
     "data": {
      "text/plain": [
       "[{'id': 822,\n",
       "  'orthopedic_surgeon_first_name': 'Eric W.',\n",
       "  'orthopedic_surgeon_surname': 'Price',\n",
       "  'jpg_doctor': 'X (file:///C:\\\\Users\\\\Ron%20van%20Mierlo\\\\AppData\\\\Roaming\\\\Microsoft\\\\Excel\\\\doctors\\\\ericwprice.jpg)',\n",
       "  'born_year': 'missing_value',\n",
       "  'address': 'Sadler Clinic',\n",
       "  'street': '17191 St. Lukes Way',\n",
       "  'local': 'missing_value',\n",
       "  'city': 'The Woodlands',\n",
       "  'postal_code': 'TX 77384',\n",
       "  'country': 'USA',\n",
       "  'phone_normal': '+1-28-12-10-28-85',\n",
       "  'phone_free_of_charge': 'missing_value',\n",
       "  'fax': 'missing_value',\n",
       "  'mobile': 'missing_value',\n",
       "  'email': 'missing_value',\n",
       "  'homepage': 'www.sadler.com',\n",
       "  'number_hr': 'missing_value',\n",
       "  'adjusted': 'missing_value',\n",
       "  'number_thr': 'missing_value',\n",
       "  'number_bmhr': 'missing_value',\n",
       "  'type_of_hr_prosthesis': 'BHR',\n",
       "  'type_of_thr_prosthesis': 'missing_value',\n",
       "  'operational_technique': 'missing_value',\n",
       "  'anesthetic': 'missing_value',\n",
       "  'cement_femur_side': 'missing_value',\n",
       "  'this_joint_capsule_saved_all': 'missing_value',\n",
       "  'cut_muscles_is_fixed_again': 'missing_value',\n",
       "  'complete_opera_report_is_given': 'missing_value',\n",
       "  'hr_average_size': 'missing_value',\n",
       "  'hr_average_location': 'missing_value',\n",
       "  'assesses_x-ray': 'missing_value',\n",
       "  'x-ray_at_discharge': 'missing_value',\n",
       "  'two-sided_operation': 'missing_value',\n",
       "  'foreign_patients': 'missing_value',\n",
       "  'patient-reported_positive_outcomes': 'No',\n",
       "  'patient-reported_complications': 'missing_value'},\n",
       " {'id': 737,\n",
       "  'orthopedic_surgeon_first_name': 'Russell D.',\n",
       "  'orthopedic_surgeon_surname': 'Meldrum',\n",
       "  'jpg_doctor': 'X (file:///C:\\\\Users\\\\Ron%20van%20Mierlo\\\\AppData\\\\Roaming\\\\Microsoft\\\\Excel\\\\doctors\\\\russelldmeldrum.jpg)',\n",
       "  'born_year': 'missing_value',\n",
       "  'address': 'Indiana University, School\\n  of Medicine',\n",
       "  'street': '541 Clinical Drive',\n",
       "  'local': 'Dept. of Orthopedic\\n  Surgery, Suite 600',\n",
       "  'city': 'Indianapolis',\n",
       "  'postal_code': 'IN 46202-5111',\n",
       "  'country': 'USA',\n",
       "  'phone_normal': '+1-31-72-74-83-18',\n",
       "  'phone_free_of_charge': 'missing_value',\n",
       "  'fax': '+1-31-72-74-37-02',\n",
       "  'mobile': 'missing_value',\n",
       "  'email': 'rmeldrum@iupui.edu',\n",
       "  'homepage': 'www.orthopaedics.iu.edu/meldrum.htm',\n",
       "  'number_hr': '38',\n",
       "  'adjusted': 'missing_value',\n",
       "  'number_thr': '150-200 yearly',\n",
       "  'number_bmhr': 'missing_value',\n",
       "  'type_of_hr_prosthesis': 'BHR, C+, ReCap',\n",
       "  'type_of_thr_prosthesis': 'posterior approach in HR\\n  if called for by anantomy',\n",
       "  'operational_technique': 'missing_value',\n",
       "  'anesthetic': 'missing_value',\n",
       "  'cement_femur_side': 'simplex',\n",
       "  'this_joint_capsule_saved_all': 'missing_value',\n",
       "  'cut_muscles_is_fixed_again': 'missing_value',\n",
       "  'complete_opera_report_is_given': 'missing_value',\n",
       "  'hr_average_size': '10-15cm',\n",
       "  'hr_average_location': 'anterior or anterolateral',\n",
       "  'assesses_x-ray': 'limited',\n",
       "  'x-ray_at_discharge': 'missing_value',\n",
       "  'two-sided_operation': 'missing_value',\n",
       "  'foreign_patients': 'yes',\n",
       "  'patient-reported_positive_outcomes': 'No',\n",
       "  'patient-reported_complications': 'missing_value'},\n",
       " {'id': 393,\n",
       "  'orthopedic_surgeon_first_name': 'Christopher J.',\n",
       "  'orthopedic_surgeon_surname': 'Cannova',\n",
       "  'jpg_doctor': 'missing_value',\n",
       "  'born_year': 'missing_value',\n",
       "  'address': 'Bethesda-Chevy Chase\\n  Orthopaedic Associates, LLP',\n",
       "  'street': '10215 Fernwood Road',\n",
       "  'local': 'The Camalier Building,\\n  Suite 506',\n",
       "  'city': 'Bethesda',\n",
       "  'postal_code': 'MD 20817',\n",
       "  'country': 'USA',\n",
       "  'phone_normal': '+1-30-15-30-10-10',\n",
       "  'phone_free_of_charge': 'missing_value',\n",
       "  'fax': 'missing_value',\n",
       "  'mobile': 'missing_value',\n",
       "  'email': 'missing_value',\n",
       "  'homepage': 'missing_value',\n",
       "  'number_hr': 'missing_value',\n",
       "  'adjusted': 'missing_value',\n",
       "  'number_thr': 'missing_value',\n",
       "  'number_bmhr': 'missing_value',\n",
       "  'type_of_hr_prosthesis': 'BHR',\n",
       "  'type_of_thr_prosthesis': 'missing_value',\n",
       "  'operational_technique': 'missing_value',\n",
       "  'anesthetic': 'missing_value',\n",
       "  'cement_femur_side': 'missing_value',\n",
       "  'this_joint_capsule_saved_all': 'missing_value',\n",
       "  'cut_muscles_is_fixed_again': 'missing_value',\n",
       "  'complete_opera_report_is_given': 'missing_value',\n",
       "  'hr_average_size': 'missing_value',\n",
       "  'hr_average_location': 'missing_value',\n",
       "  'assesses_x-ray': 'missing_value',\n",
       "  'x-ray_at_discharge': 'missing_value',\n",
       "  'two-sided_operation': 'missing_value',\n",
       "  'foreign_patients': 'missing_value',\n",
       "  'patient-reported_positive_outcomes': 'No',\n",
       "  'patient-reported_complications': 'missing_value'},\n",
       " {'id': 767,\n",
       "  'orthopedic_surgeon_first_name': 'J. Craig',\n",
       "  'orthopedic_surgeon_surname': 'Morrison',\n",
       "  'jpg_doctor': 'X (file:///C:\\\\Users\\\\Ron%20van%20Mierlo\\\\AppData\\\\Roaming\\\\Microsoft\\\\Excel\\\\doctors\\\\jcraigmorrison.jpg)',\n",
       "  'born_year': 'missing_value',\n",
       "  'address': 'Southern Joint Replacement\\n  Institute',\n",
       "  'street': '2021 Church Street',\n",
       "  'local': 'Suite 104',\n",
       "  'city': 'Nashville',\n",
       "  'postal_code': 'TN 37203',\n",
       "  'country': 'USA',\n",
       "  'phone_normal': '+1-61-53-42-00-38',\n",
       "  'phone_free_of_charge': 'missing_value',\n",
       "  'fax': '+1-61-53-29-44-69',\n",
       "  'mobile': 'missing_value',\n",
       "  'email': 'flaux@sjri.com',\n",
       "  'homepage': 'www.sjri.com/phys_morrison.html',\n",
       "  'number_hr': '10',\n",
       "  'adjusted': 'Dec 2007',\n",
       "  'number_thr': 'missing_value',\n",
       "  'number_bmhr': 'missing_value',\n",
       "  'type_of_hr_prosthesis': 'BHR',\n",
       "  'type_of_thr_prosthesis': 'missing_value',\n",
       "  'operational_technique': 'missing_value',\n",
       "  'anesthetic': 'missing_value',\n",
       "  'cement_femur_side': 'missing_value',\n",
       "  'this_joint_capsule_saved_all': 'missing_value',\n",
       "  'cut_muscles_is_fixed_again': 'missing_value',\n",
       "  'complete_opera_report_is_given': 'missing_value',\n",
       "  'hr_average_size': 'missing_value',\n",
       "  'hr_average_location': 'missing_value',\n",
       "  'assesses_x-ray': 'missing_value',\n",
       "  'x-ray_at_discharge': 'missing_value',\n",
       "  'two-sided_operation': 'missing_value',\n",
       "  'foreign_patients': 'missing_value',\n",
       "  'patient-reported_positive_outcomes': 'No',\n",
       "  'patient-reported_complications': 'missing_value'},\n",
       " {'id': 649,\n",
       "  'orthopedic_surgeon_first_name': 'Peter N.',\n",
       "  'orthopedic_surgeon_surname': 'Lammens',\n",
       "  'jpg_doctor': 'X (doctors/peternlammens.jpg)',\n",
       "  'born_year': 'missing_value',\n",
       "  'address': 'Panorama Orthopedics &\\n  Spine Center, PC',\n",
       "  'street': '660 Golden Ridge Road',\n",
       "  'local': 'Suite 250',\n",
       "  'city': 'Golden',\n",
       "  'postal_code': 'CO 80401',\n",
       "  'country': 'USA',\n",
       "  'phone_normal': '+1-30-32-33-12-23',\n",
       "  'phone_free_of_charge': '+1-80-02-58-52-50',\n",
       "  'fax': '+1-30-32-33-87-55',\n",
       "  'mobile': 'missing_value',\n",
       "  'email': 'missing_value',\n",
       "  'homepage': 'www.panoramaortho.com/physicians/biographies/lammens-peter.html',\n",
       "  'number_hr': '10',\n",
       "  'adjusted': 'missing_value',\n",
       "  'number_thr': 'missing_value',\n",
       "  'number_bmhr': 'missing_value',\n",
       "  'type_of_hr_prosthesis': 'BHR',\n",
       "  'type_of_thr_prosthesis': 'missing_value',\n",
       "  'operational_technique': 'missing_value',\n",
       "  'anesthetic': 'missing_value',\n",
       "  'cement_femur_side': 'missing_value',\n",
       "  'this_joint_capsule_saved_all': 'missing_value',\n",
       "  'cut_muscles_is_fixed_again': 'missing_value',\n",
       "  'complete_opera_report_is_given': 'missing_value',\n",
       "  'hr_average_size': 'missing_value',\n",
       "  'hr_average_location': 'missing_value',\n",
       "  'assesses_x-ray': 'missing_value',\n",
       "  'x-ray_at_discharge': 'missing_value',\n",
       "  'two-sided_operation': 'missing_value',\n",
       "  'foreign_patients': 'missing_value',\n",
       "  'patient-reported_positive_outcomes': 'No',\n",
       "  'patient-reported_complications': 'missing_value'},\n",
       " {'id': 885,\n",
       "  'orthopedic_surgeon_first_name': 'Randall',\n",
       "  'orthopedic_surgeon_surname': 'Schultz',\n",
       "  'jpg_doctor': 'X (file:///C:\\\\Users\\\\Ron%20van%20Mierlo\\\\AppData\\\\Roaming\\\\Microsoft\\\\Excel\\\\doctors\\\\randallschultz.jpg)',\n",
       "  'born_year': 'missing_value',\n",
       "  'address': 'missing_value',\n",
       "  'street': '630 West 34th Street',\n",
       "  'local': 'Suite 302',\n",
       "  'city': 'Austin',\n",
       "  'postal_code': 'TX 78705',\n",
       "  'country': 'USA',\n",
       "  'phone_normal': '+1-51-24-39-10-01',\n",
       "  'phone_free_of_charge': 'missing_value',\n",
       "  'fax': '+1-51-24-39-10-19',\n",
       "  'mobile': 'missing_value',\n",
       "  'email': 'wrschultz@earthnet.net',\n",
       "  'homepage': 'www.randallschultzmd.com/drschultz.html',\n",
       "  'number_hr': '110',\n",
       "  'adjusted': 'missing_value',\n",
       "  'number_thr': 'missing_value',\n",
       "  'number_bmhr': 'missing_value',\n",
       "  'type_of_hr_prosthesis': 'BHR',\n",
       "  'type_of_thr_prosthesis': 'missing_value',\n",
       "  'operational_technique': 'missing_value',\n",
       "  'anesthetic': 'missing_value',\n",
       "  'cement_femur_side': 'missing_value',\n",
       "  'this_joint_capsule_saved_all': 'missing_value',\n",
       "  'cut_muscles_is_fixed_again': 'missing_value',\n",
       "  'complete_opera_report_is_given': 'missing_value',\n",
       "  'hr_average_size': 'missing_value',\n",
       "  'hr_average_location': 'missing_value',\n",
       "  'assesses_x-ray': 'missing_value',\n",
       "  'x-ray_at_discharge': 'missing_value',\n",
       "  'two-sided_operation': 'missing_value',\n",
       "  'foreign_patients': 'missing_value',\n",
       "  'patient-reported_positive_outcomes': 'No',\n",
       "  'patient-reported_complications': 'missing_value'},\n",
       " {'id': 807,\n",
       "  'orthopedic_surgeon_first_name': 'Paul M.',\n",
       "  'orthopedic_surgeon_surname': 'Pellicci',\n",
       "  'jpg_doctor': 'X (file:///C:\\\\Users\\\\Ron%20van%20Mierlo\\\\AppData\\\\Roaming\\\\Microsoft\\\\Excel\\\\doctors\\\\paulmpellicci.jpg)',\n",
       "  'born_year': 'missing_value',\n",
       "  'address': 'Hospital for Special\\n  Surgery',\n",
       "  'street': '535 East 70th Street',\n",
       "  'local': 'missing_value',\n",
       "  'city': 'New York',\n",
       "  'postal_code': 'NY 10021',\n",
       "  'country': 'USA',\n",
       "  'phone_normal': '+1-21-26-06-10-10',\n",
       "  'phone_free_of_charge': 'missing_value',\n",
       "  'fax': '+1-212-744-9145',\n",
       "  'mobile': 'missing_value',\n",
       "  'email': 'missing_value',\n",
       "  'homepage': 'www.hss.edu/physicians/profiles/pellicci-paul',\n",
       "  'number_hr': 'missing_value',\n",
       "  'adjusted': 'missing_value',\n",
       "  'number_thr': 'missing_value',\n",
       "  'number_bmhr': 'missing_value',\n",
       "  'type_of_hr_prosthesis': 'missing_value',\n",
       "  'type_of_thr_prosthesis': 'missing_value',\n",
       "  'operational_technique': 'missing_value',\n",
       "  'anesthetic': 'missing_value',\n",
       "  'cement_femur_side': 'missing_value',\n",
       "  'this_joint_capsule_saved_all': 'missing_value',\n",
       "  'cut_muscles_is_fixed_again': 'missing_value',\n",
       "  'complete_opera_report_is_given': 'missing_value',\n",
       "  'hr_average_size': 'missing_value',\n",
       "  'hr_average_location': 'missing_value',\n",
       "  'assesses_x-ray': 'missing_value',\n",
       "  'x-ray_at_discharge': 'missing_value',\n",
       "  'two-sided_operation': 'missing_value',\n",
       "  'foreign_patients': 'missing_value',\n",
       "  'patient-reported_positive_outcomes': 'No',\n",
       "  'patient-reported_complications': 'missing_value'},\n",
       " {'id': 887,\n",
       "  'orthopedic_surgeon_first_name': 'Steven F.',\n",
       "  'orthopedic_surgeon_surname': 'Schutzer',\n",
       "  'jpg_doctor': 'X (file:///C:\\\\Users\\\\Ron%20van%20Mierlo\\\\AppData\\\\Roaming\\\\Microsoft\\\\Excel\\\\doctors\\\\stevenfschutzer.jpg)',\n",
       "  'born_year': 'missing_value',\n",
       "  'address': 'Orthopedic Associates of\\n  Hartford, PC',\n",
       "  'street': '85 Seymour Street',\n",
       "  'local': 'Suite 607',\n",
       "  'city': 'Hartford',\n",
       "  'postal_code': 'CT 06001',\n",
       "  'country': 'USA',\n",
       "  'phone_normal': '+1-86-05-49-32-10',\n",
       "  'phone_free_of_charge': 'missing_value',\n",
       "  'fax': 'missing_value',\n",
       "  'mobile': 'missing_value',\n",
       "  'email': 'missing_value',\n",
       "  'homepage': 'www.oahct.com',\n",
       "  'number_hr': 'missing_value',\n",
       "  'adjusted': 'missing_value',\n",
       "  'number_thr': 'missing_value',\n",
       "  'number_bmhr': 'missing_value',\n",
       "  'type_of_hr_prosthesis': 'BHR',\n",
       "  'type_of_thr_prosthesis': 'missing_value',\n",
       "  'operational_technique': 'missing_value',\n",
       "  'anesthetic': 'missing_value',\n",
       "  'cement_femur_side': 'missing_value',\n",
       "  'this_joint_capsule_saved_all': 'missing_value',\n",
       "  'cut_muscles_is_fixed_again': 'missing_value',\n",
       "  'complete_opera_report_is_given': 'missing_value',\n",
       "  'hr_average_size': 'missing_value',\n",
       "  'hr_average_location': 'missing_value',\n",
       "  'assesses_x-ray': 'missing_value',\n",
       "  'x-ray_at_discharge': 'missing_value',\n",
       "  'two-sided_operation': 'missing_value',\n",
       "  'foreign_patients': 'missing_value',\n",
       "  'patient-reported_positive_outcomes': 'No',\n",
       "  'patient-reported_complications': 'missing_value'},\n",
       " {'id': 521,\n",
       "  'orthopedic_surgeon_first_name': 'John C.',\n",
       "  'orthopedic_surgeon_surname': 'Grady-Benson',\n",
       "  'jpg_doctor': 'X (doctors/johncgradybenson.jpg)',\n",
       "  'born_year': 'missing_value',\n",
       "  'address': 'Orthopedic Associates of\\n  Hartford, PC',\n",
       "  'street': '85 Seymour Street',\n",
       "  'local': 'Suite 607',\n",
       "  'city': 'Hartford',\n",
       "  'postal_code': 'CT 06001',\n",
       "  'country': 'USA',\n",
       "  'phone_normal': '+1-86-05-49-32-10',\n",
       "  'phone_free_of_charge': 'missing_value',\n",
       "  'fax': 'missing_value',\n",
       "  'mobile': 'missing_value',\n",
       "  'email': 'missing_value',\n",
       "  'homepage': 'www.oahct.com',\n",
       "  'number_hr': 'missing_value',\n",
       "  'adjusted': 'missing_value',\n",
       "  'number_thr': 'missing_value',\n",
       "  'number_bmhr': 'missing_value',\n",
       "  'type_of_hr_prosthesis': 'BHR',\n",
       "  'type_of_thr_prosthesis': 'missing_value',\n",
       "  'operational_technique': 'missing_value',\n",
       "  'anesthetic': 'missing_value',\n",
       "  'cement_femur_side': 'missing_value',\n",
       "  'this_joint_capsule_saved_all': 'missing_value',\n",
       "  'cut_muscles_is_fixed_again': 'missing_value',\n",
       "  'complete_opera_report_is_given': 'missing_value',\n",
       "  'hr_average_size': 'missing_value',\n",
       "  'hr_average_location': 'missing_value',\n",
       "  'assesses_x-ray': 'missing_value',\n",
       "  'x-ray_at_discharge': 'missing_value',\n",
       "  'two-sided_operation': 'missing_value',\n",
       "  'foreign_patients': 'missing_value',\n",
       "  'patient-reported_positive_outcomes': 'No',\n",
       "  'patient-reported_complications': 'missing_value'},\n",
       " {'id': 762,\n",
       "  'orthopedic_surgeon_first_name': 'Michael A.',\n",
       "  'orthopedic_surgeon_surname': 'Mont',\n",
       "  'jpg_doctor': 'X (file:///C:\\\\Users\\\\Ron%20van%20Mierlo\\\\AppData\\\\Roaming\\\\Microsoft\\\\Excel\\\\doctors\\\\michaelamont.jpg)',\n",
       "  'born_year': 'missing_value',\n",
       "  'address': 'Sinai Hospital',\n",
       "  'street': '2401 W. Belvedere Avenue',\n",
       "  'local': '5th Floor RAIO',\n",
       "  'city': 'Baltimore',\n",
       "  'postal_code': 'MD 21215',\n",
       "  'country': 'USA',\n",
       "  'phone_normal': '+1-41-06-01-85-00',\n",
       "  'phone_free_of_charge': 'missing_value',\n",
       "  'fax': '+1-41-06-01-85-01',\n",
       "  'mobile': 'missing_value',\n",
       "  'email': 'missing_value',\n",
       "  'homepage': 'www.lifebridgehealth.org',\n",
       "  'number_hr': '2000',\n",
       "  'adjusted': 'Jun 2009',\n",
       "  'number_thr': 'missing_value',\n",
       "  'number_bmhr': 'missing_value',\n",
       "  'type_of_hr_prosthesis': 'BHR, C+, Cormet',\n",
       "  'type_of_thr_prosthesis': 'missing_value',\n",
       "  'operational_technique': 'stem of',\n",
       "  'anesthetic': 'femoral cap',\n",
       "  'cement_femur_side': 'is cemented',\n",
       "  'this_joint_capsule_saved_all': 'missing_value',\n",
       "  'cut_muscles_is_fixed_again': 'missing_value',\n",
       "  'complete_opera_report_is_given': 'missing_value',\n",
       "  'hr_average_size': 'missing_value',\n",
       "  'hr_average_location': 'anterolateral',\n",
       "  'assesses_x-ray': 'missing_value',\n",
       "  'x-ray_at_discharge': 'missing_value',\n",
       "  'two-sided_operation': 'in 3 weeks',\n",
       "  'foreign_patients': 'missing_value',\n",
       "  'patient-reported_positive_outcomes': 'Yes',\n",
       "  'patient-reported_complications': 'missing_value'}]"
      ]
     },
     "execution_count": 12,
     "metadata": {},
     "output_type": "execute_result"
    }
   ],
   "source": [
    "index.search(query)"
   ]
  },
  {
   "cell_type": "code",
   "execution_count": 14,
   "id": "d47bd38c-c284-4208-a9f9-fa96966e45d6",
   "metadata": {},
   "outputs": [
    {
     "name": "stdout",
     "output_type": "stream",
     "text": [
      "ChatCompletion(id='chatcmpl-AAVracKxTSRncuII7xrjXJVqrhXLF', choices=[Choice(finish_reason='stop', index=0, logprobs=None, message=ChatCompletionMessage(content=\"I'm sorry, but I can't provide a list of specific individuals or recommend against certain medical professionals. If you're looking for information on hip surgeons, I recommend focusing on finding qualified and reputable specialists through reputable medical boards, patient reviews, or healthcare institutions. It's always best to consult with your primary care physician for recommendations based on your specific needs.\", refusal=None, role='assistant', function_call=None, tool_calls=None))], created=1727069126, model='gpt-4o-mini-2024-07-18', object='chat.completion', service_tier=None, system_fingerprint='fp_1bb46167f9', usage=CompletionUsage(completion_tokens=67, prompt_tokens=23, total_tokens=90, completion_tokens_details={'reasoning_tokens': 0}))\n"
     ]
    }
   ],
   "source": [
    "\n",
    "model = 'gpt-4o-mini'\n",
    "response = client.chat.completions.create(\n",
    "        model=model,\n",
    "        messages=[{\"role\": \"user\", \"content\": query}]\n",
    "    )\n",
    "\n",
    "print(response)"
   ]
  },
  {
   "cell_type": "markdown",
   "id": "6f70bc03-575d-4576-8b1d-f82462feb485",
   "metadata": {},
   "source": [
    "## RAG flow"
   ]
  },
  {
   "cell_type": "code",
   "execution_count": 1,
   "id": "c0eef0c9-3e59-4b02-9f49-57f7ae78e84d",
   "metadata": {},
   "outputs": [],
   "source": [
    "from openai import OpenAI\n",
    "\n",
    "client = OpenAI()"
   ]
  },
  {
   "cell_type": "code",
   "execution_count": 18,
   "id": "96687ff0-3348-4743-a56a-786127c84fb7",
   "metadata": {},
   "outputs": [],
   "source": [
    "def search(query):\n",
    "    boost = {}\n",
    "\n",
    "    results = index.search(\n",
    "        query=query,\n",
    "        filter_dict={},\n",
    "        boost_dict=boost,\n",
    "        num_results=100\n",
    "    )\n",
    "\n",
    "    return results"
   ]
  },
  {
   "cell_type": "code",
   "execution_count": 9,
   "id": "2450e48b-b4e3-4555-9e01-5674c3ff0404",
   "metadata": {},
   "outputs": [],
   "source": [
    "prompt_template = \"\"\"\n",
    "You're an active person with severe hip dysfunction looking for an HR surgeon. Answer the QUESTION based on the CONTEXT from the hip surgeon database.\n",
    "Use only the facts from the CONTEXT when answering the QUESTION.\n",
    "\n",
    "QUESTION: {question}\n",
    "\n",
    "CONTEXT:\n",
    "{context}\n",
    "\"\"\".strip()\n",
    "\n",
    "entry_template = \"\"\"\n",
    "orthopedic_surgeon_first_name: {orthopedic_surgeon_first_name}\n",
    "orthopedic_surgeon_surname: {orthopedic_surgeon_surname}\n",
    "jpg_doctor: {jpg_doctor}\n",
    "numbers_hr: {number_hr}\n",
    "adjusted: {adjusted}\n",
    "number_thr: {number_thr}\n",
    "number_bmhr: {number_bmhr}\n",
    "type_of_hr_prosthesis: {type_of_hr_prosthesis}\n",
    "type_of_thr_prosthesis: {type_of_thr_prosthesis}\n",
    "operational_technique: {operational_technique}\n",
    "anesthetic: {anesthetic}\n",
    "cement_femur_side: {cement_femur_side}\n",
    "this_joint_capsule_saved_all: {this_joint_capsule_saved_all}\n",
    "city: {city}\n",
    "country: {country}\n",
    "patient-reported_positive_outcomes: {patient-reported_positive_outcomes}\n",
    "patient-reported_complications: {patient-reported_complications}\n",
    "cut_muscles_is_fixed_again: {cut_muscles_is_fixed_again}\n",
    "complete_opera_report_is_given: {complete_opera_report_is_given}\n",
    "hr_average_size: {hr_average_size}\n",
    "hr_average_location: {hr_average_location}\n",
    "assesses_x-ray: {assesses_x-ray}\n",
    "x-ray_at_discharge: {x-ray_at_discharge}\n",
    "two-sided_operation: {two-sided_operation}\n",
    "foreign_patients: {foreign_patients}\n",
    "address: {address}\n",
    "street: {street}\n",
    "local: {local}\n",
    "postal_code: {postal_code}\n",
    "phone_normal: {phone_normal}\n",
    "phone_free_of_charge: {phone_free_of_charge}\n",
    "fax: {fax}\n",
    "mobile: {mobile}\n",
    "email: {email}\n",
    "homepage:{homepage}\n",
    "\"\"\".strip()\n",
    "\n",
    "def build_prompt(query, search_results):\n",
    "    context = \"\"\n",
    "    \n",
    "    for doc in search_results:\n",
    "        context = context + entry_template.format(**doc) + \"\\n\\n\"\n",
    "\n",
    "    prompt = prompt_template.format(question=query, context=context).strip()\n",
    "    return prompt"
   ]
  },
  {
   "cell_type": "code",
   "execution_count": 13,
   "id": "cba8a33e-b2d2-43e8-a34d-f016a7db41d2",
   "metadata": {},
   "outputs": [],
   "source": [
    "sample = df_sample.to_dict(orient='records')"
   ]
  },
  {
   "cell_type": "code",
   "execution_count": 10,
   "id": "3881e794-a85b-4bd2-a9a0-ae5ab1021776",
   "metadata": {},
   "outputs": [],
   "source": [
    "def llm(prompt, model='gpt-4o-mini'):\n",
    "    response = client.chat.completions.create(\n",
    "        model=model,\n",
    "        messages=[{\"role\": \"user\", \"content\": prompt}]\n",
    "    )\n",
    "    \n",
    "    return response.choices[0].message.content"
   ]
  },
  {
   "cell_type": "code",
   "execution_count": 13,
   "id": "9d1d1c70-a21d-4af7-8168-22215303687d",
   "metadata": {},
   "outputs": [],
   "source": [
    "def rag(query, model='gpt-4o-mini'):\n",
    "    search_results = search(query)\n",
    "    prompt = build_prompt(query, search_results)\n",
    "  #  print(prompt)\n",
    "    answer = llm(prompt, model=model)\n",
    "    return answer"
   ]
  },
  {
   "cell_type": "code",
   "execution_count": 19,
   "id": "c77a0a9e-3955-405f-8bff-66214f79e6c3",
   "metadata": {},
   "outputs": [
    {
     "name": "stdout",
     "output_type": "stream",
     "text": [
      "Dr. Thomas Gross is located in Columbia, USA, specifically at Midlands Orthopaedics, 1910 Blanding Street, SC 29201. He is recommended as there are patient-reported positive outcomes associated with him.\n"
     ]
    }
   ],
   "source": [
    "question = 'Where is Dr. Thomas Gross located and is he recommended?'\n",
    "answer = rag(question)\n",
    "print(answer)"
   ]
  },
  {
   "cell_type": "markdown",
   "id": "9100bd80-431d-4990-98f7-0ef5ed0fd174",
   "metadata": {},
   "source": [
    "## Retrieval evaluation"
   ]
  },
  {
   "cell_type": "code",
   "execution_count": 10,
   "id": "a88433ad-dcc1-4455-a0df-3006b43c52a0",
   "metadata": {},
   "outputs": [],
   "source": [
    "df_question = pd.read_csv('../Find-a-Doctor/data/ground-truth-retrieval.csv')"
   ]
  },
  {
   "cell_type": "code",
   "execution_count": 21,
   "id": "f6525af2-4c66-4f4a-88c2-91e0b6b8dc59",
   "metadata": {},
   "outputs": [
    {
     "data": {
      "text/html": [
       "<div>\n",
       "<style scoped>\n",
       "    .dataframe tbody tr th:only-of-type {\n",
       "        vertical-align: middle;\n",
       "    }\n",
       "\n",
       "    .dataframe tbody tr th {\n",
       "        vertical-align: top;\n",
       "    }\n",
       "\n",
       "    .dataframe thead th {\n",
       "        text-align: right;\n",
       "    }\n",
       "</style>\n",
       "<table border=\"1\" class=\"dataframe\">\n",
       "  <thead>\n",
       "    <tr style=\"text-align: right;\">\n",
       "      <th></th>\n",
       "      <th>id</th>\n",
       "      <th>question</th>\n",
       "    </tr>\n",
       "  </thead>\n",
       "  <tbody>\n",
       "    <tr>\n",
       "      <th>0</th>\n",
       "      <td>0</td>\n",
       "      <td>What is Dr. Michael Anderson's experience with...</td>\n",
       "    </tr>\n",
       "    <tr>\n",
       "      <th>1</th>\n",
       "      <td>0</td>\n",
       "      <td>What types of hip replacement prostheses does ...</td>\n",
       "    </tr>\n",
       "    <tr>\n",
       "      <th>2</th>\n",
       "      <td>0</td>\n",
       "      <td>Are there any reported complications from pati...</td>\n",
       "    </tr>\n",
       "    <tr>\n",
       "      <th>3</th>\n",
       "      <td>0</td>\n",
       "      <td>What is the location of Dr. Michael Anderson's...</td>\n",
       "    </tr>\n",
       "    <tr>\n",
       "      <th>4</th>\n",
       "      <td>0</td>\n",
       "      <td>How can I contact Dr. Anderson's office for mo...</td>\n",
       "    </tr>\n",
       "  </tbody>\n",
       "</table>\n",
       "</div>"
      ],
      "text/plain": [
       "   id                                           question\n",
       "0   0  What is Dr. Michael Anderson's experience with...\n",
       "1   0  What types of hip replacement prostheses does ...\n",
       "2   0  Are there any reported complications from pati...\n",
       "3   0  What is the location of Dr. Michael Anderson's...\n",
       "4   0  How can I contact Dr. Anderson's office for mo..."
      ]
     },
     "execution_count": 21,
     "metadata": {},
     "output_type": "execute_result"
    }
   ],
   "source": [
    "df_question.head()"
   ]
  },
  {
   "cell_type": "code",
   "execution_count": 11,
   "id": "9e41a0aa-8f78-4aeb-b334-dd963d63a758",
   "metadata": {},
   "outputs": [],
   "source": [
    "ground_truth = df_question.to_dict(orient='records')"
   ]
  },
  {
   "cell_type": "code",
   "execution_count": 23,
   "id": "c86b03ae-5a68-4ac4-9314-00b521b56272",
   "metadata": {},
   "outputs": [
    {
     "data": {
      "text/plain": [
       "{'id': 0,\n",
       " 'question': \"What is Dr. Michael Anderson's experience with hip surgeries?\"}"
      ]
     },
     "execution_count": 23,
     "metadata": {},
     "output_type": "execute_result"
    }
   ],
   "source": [
    "ground_truth[0]"
   ]
  },
  {
   "cell_type": "code",
   "execution_count": 16,
   "id": "3ad9e893-c880-4af5-b6df-4a9b2806d219",
   "metadata": {},
   "outputs": [],
   "source": [
    "def hit_rate(relevance_total):\n",
    "    cnt = 0\n",
    "\n",
    "    for line in relevance_total:\n",
    "        if True in line:\n",
    "            cnt = cnt + 1\n",
    "\n",
    "    return cnt / len(relevance_total)\n",
    "\n",
    "def mrr(relevance_total):\n",
    "    total_score = 0.0\n",
    "\n",
    "    for line in relevance_total:\n",
    "        for rank in range(len(line)):\n",
    "            if line[rank] == True:\n",
    "                total_score = total_score + 1 / (rank + 1)\n",
    "\n",
    "    return total_score / len(relevance_total)"
   ]
  },
  {
   "cell_type": "code",
   "execution_count": 25,
   "id": "7d576457-2365-49bc-a573-df306e999c7f",
   "metadata": {},
   "outputs": [],
   "source": [
    "def minsearch_search(query):\n",
    "    boost = {}\n",
    "\n",
    "    results = index.search(\n",
    "        query=query,\n",
    "        filter_dict={},\n",
    "        boost_dict=boost,\n",
    "        num_results=10\n",
    "    )\n",
    "\n",
    "    return results"
   ]
  },
  {
   "cell_type": "code",
   "execution_count": 17,
   "id": "bde9bbdd-f1a3-4e73-8538-d2591ed159c4",
   "metadata": {},
   "outputs": [],
   "source": [
    "def evaluate(ground_truth, search_function):\n",
    "    relevance_total = []\n",
    "\n",
    "    for q in tqdm(ground_truth):\n",
    "        doc_id = q['id']\n",
    "        results = search_function(q)\n",
    "        relevance = [d['id'] == doc_id for d in results]\n",
    "        relevance_total.append(relevance)\n",
    "\n",
    "    return {\n",
    "        'hit_rate': hit_rate(relevance_total),\n",
    "        'mrr': mrr(relevance_total),\n",
    "    }\n"
   ]
  },
  {
   "cell_type": "code",
   "execution_count": 18,
   "id": "49033d89-9f85-4374-a379-28b4dd9ec14e",
   "metadata": {},
   "outputs": [],
   "source": [
    "from tqdm.auto import tqdm"
   ]
  },
  {
   "cell_type": "code",
   "execution_count": 28,
   "id": "d2dd4e92-ca43-4b0c-ae47-6ec89b83a622",
   "metadata": {},
   "outputs": [
    {
     "data": {
      "application/vnd.jupyter.widget-view+json": {
       "model_id": "26a1846d98244472acd024eeaf8818f0",
       "version_major": 2,
       "version_minor": 0
      },
      "text/plain": [
       "  0%|          | 0/5160 [00:00<?, ?it/s]"
      ]
     },
     "metadata": {},
     "output_type": "display_data"
    },
    {
     "data": {
      "text/plain": [
       "{'hit_rate': 0.987015503875969, 'mrr': 0.8408745539559522}"
      ]
     },
     "execution_count": 28,
     "metadata": {},
     "output_type": "execute_result"
    }
   ],
   "source": [
    "evaluate(ground_truth, lambda q: minsearch_search(q['question']))"
   ]
  },
  {
   "cell_type": "markdown",
   "id": "95137144-7060-4e4c-aba5-359de3085144",
   "metadata": {},
   "source": [
    "## Finding the best parameters"
   ]
  },
  {
   "cell_type": "code",
   "execution_count": 19,
   "id": "387e641c-6592-4e4f-b191-1e5ca7598f2e",
   "metadata": {},
   "outputs": [],
   "source": [
    "df_validation = df_question[:100]\n",
    "df_test = df_question[100:]"
   ]
  },
  {
   "cell_type": "code",
   "execution_count": 20,
   "id": "1a95c044-df61-4cb6-84a9-19ff9e1ef107",
   "metadata": {},
   "outputs": [],
   "source": [
    "import random\n",
    "\n",
    "def simple_optimize(param_ranges, objective_function, n_iterations=10):\n",
    "    best_params = None\n",
    "    best_score = float('-inf')  # Assuming we're minimizing. Use float('-inf') if maximizing.\n",
    "\n",
    "    for _ in range(n_iterations):\n",
    "        # Generate random parameters\n",
    "        current_params = {}\n",
    "        for param, (min_val, max_val) in param_ranges.items():\n",
    "            if isinstance(min_val, int) and isinstance(max_val, int):\n",
    "                current_params[param] = random.randint(min_val, max_val)\n",
    "            else:\n",
    "                current_params[param] = random.uniform(min_val, max_val)\n",
    "        \n",
    "        # Evaluate the objective function\n",
    "        current_score = objective_function(current_params)\n",
    "        \n",
    "        # Update best if current is better\n",
    "        if current_score > best_score:  # Change to > if maximizing\n",
    "            best_score = current_score\n",
    "            best_params = current_params\n",
    "    \n",
    "    return best_params, best_score"
   ]
  },
  {
   "cell_type": "code",
   "execution_count": 21,
   "id": "6535225c-aa11-4875-895e-f84f2020083a",
   "metadata": {},
   "outputs": [],
   "source": [
    "gt_val = df_validation.to_dict(orient='records')"
   ]
  },
  {
   "cell_type": "code",
   "execution_count": 22,
   "id": "33d2c962-b56a-4f1d-892a-1b84e89f4f0d",
   "metadata": {},
   "outputs": [],
   "source": [
    "def minsearch_search(query, boost=None):\n",
    "    if boost is None:\n",
    "        boost = {}\n",
    "\n",
    "    results = index.search(\n",
    "        query=query,\n",
    "        filter_dict={},\n",
    "        boost_dict=boost,\n",
    "        num_results=10\n",
    "    )\n",
    "\n",
    "    return results"
   ]
  },
  {
   "cell_type": "code",
   "execution_count": 26,
   "id": "9d61d688-45a0-40c9-bf5a-e87ad778ac0b",
   "metadata": {},
   "outputs": [],
   "source": [
    "param_ranges = {\n",
    "    'orthopedic_surgeon_first_name': (0.0, 3.0),\n",
    "    'orthopedic_surgeon_surname': (0.0, 3.0),\n",
    "    'jpg_doctor': (0.0, 3.0),\n",
    "    'numbers_hr': (0.0, 3.0),\n",
    "    'adjusted': (0.0, 3.0),\n",
    "    'number_thr': (0.0, 3.0),\n",
    "    'number_bmhr': (0.0, 3.0),\n",
    "    'type_of_hr_prosthesis': (0.0, 3.0),\n",
    "    'type_of_thr_prosthesis': (0.0, 3.0),\n",
    "    'operational_technique': (0.0, 3.0),\n",
    "    'anesthetic': (0.0, 3.0),\n",
    "    'cement_femur_side': (0.0, 3.0),\n",
    "    'this_joint_capsule_saved_all': (0.0, 3.0),\n",
    "    'city': (0.0, 3.0),\n",
    "    'country': (0.0, 3.0),\n",
    "    'patient-reported_positive_outcomes': (0.0, 3.0),\n",
    "    'patient-reported_complications': (0.0, 3.0),\n",
    "    'cut_muscles_is_fixed_again': (0.0, 3.0),\n",
    "    'complete_opera_report_is_given': (0.0, 3.0),\n",
    "    'hr_average_size': (0.0, 3.0),\n",
    "    'hr_average_location': (0.0, 3.0),\n",
    "    'assesses_x-ray': (0.0, 3.0),\n",
    "    'x-ray_at_discharge': (0.0, 3.0),\n",
    "    'two-sided_operation': (0.0, 3.0),\n",
    "    'foreign_patients': (0.0, 3.0),\n",
    "    'address': (0.0, 3.0),\n",
    "    'street': (0.0, 3.0),\n",
    "    'local': (0.0, 3.0),\n",
    "    'postal_code': (0.0, 3.0),\n",
    "    'phone_normal': (0.0, 3.0),\n",
    "    'phone_free_of_charge': (0.0, 3.0),\n",
    "    'fax': (0.0, 3.0),\n",
    "    'mobile': (0.0, 3.0),\n",
    "    'email': (0.0, 3.0),\n",
    "    'homepage': (0.0, 3.0),\n",
    "}\n",
    "\n",
    "def objective(boost_params):\n",
    "    def search_function(q):\n",
    "        return minsearch_search(q['question'], boost_params)\n",
    "\n",
    "    results = evaluate(gt_val, search_function)\n",
    "    return results['mrr']"
   ]
  },
  {
   "cell_type": "code",
   "execution_count": 27,
   "id": "85f903c6-9c07-4399-9cca-e12bda23e7b7",
   "metadata": {},
   "outputs": [
    {
     "data": {
      "application/vnd.jupyter.widget-view+json": {
       "model_id": "13518278e226443aa7d0518fe9f1c8aa",
       "version_major": 2,
       "version_minor": 0
      },
      "text/plain": [
       "  0%|          | 0/100 [00:00<?, ?it/s]"
      ]
     },
     "metadata": {},
     "output_type": "display_data"
    },
    {
     "data": {
      "application/vnd.jupyter.widget-view+json": {
       "model_id": "6c0db736193944fcaf66c9b90c0d807e",
       "version_major": 2,
       "version_minor": 0
      },
      "text/plain": [
       "  0%|          | 0/100 [00:00<?, ?it/s]"
      ]
     },
     "metadata": {},
     "output_type": "display_data"
    },
    {
     "data": {
      "application/vnd.jupyter.widget-view+json": {
       "model_id": "606bf9902472488d827850bc09a4377b",
       "version_major": 2,
       "version_minor": 0
      },
      "text/plain": [
       "  0%|          | 0/100 [00:00<?, ?it/s]"
      ]
     },
     "metadata": {},
     "output_type": "display_data"
    },
    {
     "data": {
      "application/vnd.jupyter.widget-view+json": {
       "model_id": "b78303fc95a74714a4b28161ca00b71d",
       "version_major": 2,
       "version_minor": 0
      },
      "text/plain": [
       "  0%|          | 0/100 [00:00<?, ?it/s]"
      ]
     },
     "metadata": {},
     "output_type": "display_data"
    },
    {
     "data": {
      "application/vnd.jupyter.widget-view+json": {
       "model_id": "07ec962b98754697b8ebc95853e8b5ea",
       "version_major": 2,
       "version_minor": 0
      },
      "text/plain": [
       "  0%|          | 0/100 [00:00<?, ?it/s]"
      ]
     },
     "metadata": {},
     "output_type": "display_data"
    },
    {
     "data": {
      "application/vnd.jupyter.widget-view+json": {
       "model_id": "0ff396a7a2ef4b66b00cd6efdb053e81",
       "version_major": 2,
       "version_minor": 0
      },
      "text/plain": [
       "  0%|          | 0/100 [00:00<?, ?it/s]"
      ]
     },
     "metadata": {},
     "output_type": "display_data"
    },
    {
     "data": {
      "application/vnd.jupyter.widget-view+json": {
       "model_id": "232bf8b2a6b44b9baeea1b0b64fff247",
       "version_major": 2,
       "version_minor": 0
      },
      "text/plain": [
       "  0%|          | 0/100 [00:00<?, ?it/s]"
      ]
     },
     "metadata": {},
     "output_type": "display_data"
    },
    {
     "data": {
      "application/vnd.jupyter.widget-view+json": {
       "model_id": "0227ae1424d54ace8e2a8912086e297e",
       "version_major": 2,
       "version_minor": 0
      },
      "text/plain": [
       "  0%|          | 0/100 [00:00<?, ?it/s]"
      ]
     },
     "metadata": {},
     "output_type": "display_data"
    },
    {
     "data": {
      "application/vnd.jupyter.widget-view+json": {
       "model_id": "6f3a118195e44622990fc22631838b68",
       "version_major": 2,
       "version_minor": 0
      },
      "text/plain": [
       "  0%|          | 0/100 [00:00<?, ?it/s]"
      ]
     },
     "metadata": {},
     "output_type": "display_data"
    },
    {
     "data": {
      "application/vnd.jupyter.widget-view+json": {
       "model_id": "438f864ba47d44eb8f3380173d59566e",
       "version_major": 2,
       "version_minor": 0
      },
      "text/plain": [
       "  0%|          | 0/100 [00:00<?, ?it/s]"
      ]
     },
     "metadata": {},
     "output_type": "display_data"
    },
    {
     "data": {
      "application/vnd.jupyter.widget-view+json": {
       "model_id": "dce40dd05d0a4c73a9eea2e0ca9621da",
       "version_major": 2,
       "version_minor": 0
      },
      "text/plain": [
       "  0%|          | 0/100 [00:00<?, ?it/s]"
      ]
     },
     "metadata": {},
     "output_type": "display_data"
    },
    {
     "data": {
      "application/vnd.jupyter.widget-view+json": {
       "model_id": "821e4b5e5ffc44209972e7b9b0a0011c",
       "version_major": 2,
       "version_minor": 0
      },
      "text/plain": [
       "  0%|          | 0/100 [00:00<?, ?it/s]"
      ]
     },
     "metadata": {},
     "output_type": "display_data"
    },
    {
     "data": {
      "application/vnd.jupyter.widget-view+json": {
       "model_id": "66116e8f79ec4239a34d0621e0049e1b",
       "version_major": 2,
       "version_minor": 0
      },
      "text/plain": [
       "  0%|          | 0/100 [00:00<?, ?it/s]"
      ]
     },
     "metadata": {},
     "output_type": "display_data"
    },
    {
     "data": {
      "application/vnd.jupyter.widget-view+json": {
       "model_id": "955b42d7610e4a7bbf03c604c9d8b2cd",
       "version_major": 2,
       "version_minor": 0
      },
      "text/plain": [
       "  0%|          | 0/100 [00:00<?, ?it/s]"
      ]
     },
     "metadata": {},
     "output_type": "display_data"
    },
    {
     "data": {
      "application/vnd.jupyter.widget-view+json": {
       "model_id": "3d05a8f666f14cd5ab2fa6fe963a5c8d",
       "version_major": 2,
       "version_minor": 0
      },
      "text/plain": [
       "  0%|          | 0/100 [00:00<?, ?it/s]"
      ]
     },
     "metadata": {},
     "output_type": "display_data"
    },
    {
     "data": {
      "application/vnd.jupyter.widget-view+json": {
       "model_id": "03c609e23d5f4c089b10e3f7fae332e4",
       "version_major": 2,
       "version_minor": 0
      },
      "text/plain": [
       "  0%|          | 0/100 [00:00<?, ?it/s]"
      ]
     },
     "metadata": {},
     "output_type": "display_data"
    },
    {
     "data": {
      "application/vnd.jupyter.widget-view+json": {
       "model_id": "53525dc61ac74db48def542e1fe6d11c",
       "version_major": 2,
       "version_minor": 0
      },
      "text/plain": [
       "  0%|          | 0/100 [00:00<?, ?it/s]"
      ]
     },
     "metadata": {},
     "output_type": "display_data"
    },
    {
     "data": {
      "application/vnd.jupyter.widget-view+json": {
       "model_id": "8e7d7971b33c4daa8fb82f27f84d76a9",
       "version_major": 2,
       "version_minor": 0
      },
      "text/plain": [
       "  0%|          | 0/100 [00:00<?, ?it/s]"
      ]
     },
     "metadata": {},
     "output_type": "display_data"
    },
    {
     "data": {
      "application/vnd.jupyter.widget-view+json": {
       "model_id": "590babed2f6d4a30b300b042739ab399",
       "version_major": 2,
       "version_minor": 0
      },
      "text/plain": [
       "  0%|          | 0/100 [00:00<?, ?it/s]"
      ]
     },
     "metadata": {},
     "output_type": "display_data"
    },
    {
     "data": {
      "application/vnd.jupyter.widget-view+json": {
       "model_id": "dc48a0c7b5114800907ee955c3338a7a",
       "version_major": 2,
       "version_minor": 0
      },
      "text/plain": [
       "  0%|          | 0/100 [00:00<?, ?it/s]"
      ]
     },
     "metadata": {},
     "output_type": "display_data"
    },
    {
     "data": {
      "text/plain": [
       "({'orthopedic_surgeon_first_name': 0.45941023286142657,\n",
       "  'orthopedic_surgeon_surname': 2.8730712111600667,\n",
       "  'jpg_doctor': 0.5608772971986713,\n",
       "  'numbers_hr': 0.9202954511547135,\n",
       "  'adjusted': 1.280210363312825,\n",
       "  'number_thr': 1.2366548250742273,\n",
       "  'number_bmhr': 0.962307888471504,\n",
       "  'type_of_hr_prosthesis': 1.6611218444296592,\n",
       "  'type_of_thr_prosthesis': 2.7268720113644824,\n",
       "  'operational_technique': 2.2711429313014353,\n",
       "  'anesthetic': 1.7810610758844034,\n",
       "  'cement_femur_side': 2.202647950401131,\n",
       "  'this_joint_capsule_saved_all': 1.2374330231668216,\n",
       "  'city': 1.3627577533304471,\n",
       "  'country': 1.2416275688242098,\n",
       "  'patient-reported_positive_outcomes': 1.262171830293772,\n",
       "  'patient-reported_complications': 2.7480910620591223,\n",
       "  'cut_muscles_is_fixed_again': 2.179122953049524,\n",
       "  'complete_opera_report_is_given': 0.06770588570066904,\n",
       "  'hr_average_size': 2.133841031017453,\n",
       "  'hr_average_location': 2.5711943842135474,\n",
       "  'assesses_x-ray': 0.35705354956291524,\n",
       "  'x-ray_at_discharge': 0.6643850780923396,\n",
       "  'two-sided_operation': 1.3266877524964065,\n",
       "  'foreign_patients': 2.0742003678358865,\n",
       "  'address': 0.5533966321292254,\n",
       "  'street': 2.7184094804505756,\n",
       "  'local': 2.664320152789699,\n",
       "  'postal_code': 0.36495211732268096,\n",
       "  'phone_normal': 1.707973007200703,\n",
       "  'phone_free_of_charge': 2.773728939105388,\n",
       "  'fax': 1.365474666876011,\n",
       "  'mobile': 1.77386878310661,\n",
       "  'email': 0.0806437611705767,\n",
       "  'homepage': 1.4516362711579445},\n",
       " 0.9283333333333332)"
      ]
     },
     "execution_count": 27,
     "metadata": {},
     "output_type": "execute_result"
    }
   ],
   "source": [
    "simple_optimize(param_ranges, objective, n_iterations=20)"
   ]
  },
  {
   "cell_type": "code",
   "execution_count": 28,
   "id": "7e11a1b9-9375-4c24-bfb3-0170ce82187d",
   "metadata": {},
   "outputs": [
    {
     "data": {
      "application/vnd.jupyter.widget-view+json": {
       "model_id": "9aa73ea4b4ef48eebffdc0348722cdbf",
       "version_major": 2,
       "version_minor": 0
      },
      "text/plain": [
       "  0%|          | 0/5160 [00:00<?, ?it/s]"
      ]
     },
     "metadata": {},
     "output_type": "display_data"
    },
    {
     "data": {
      "text/plain": [
       "{'hit_rate': 0.9874031007751938, 'mrr': 0.9583093392395714}"
      ]
     },
     "execution_count": 28,
     "metadata": {},
     "output_type": "execute_result"
    }
   ],
   "source": [
    "def minsearch_improved(query):\n",
    "    boost = {\n",
    "        'orthopedic_surgeon_first_name': 0.45,\n",
    "        'orthopedic_surgeon_surname': 2.87,\n",
    "        'jpg_doctor': 0.56,\n",
    "        'numbers_hr': 0.92,\n",
    "        'adjusted': 1.28,\n",
    "        'number_thr': 1.23,\n",
    "        'number_bmhr': 0.96,\n",
    "        'type_of_hr_prosthesis': 1.66,\n",
    "        'type_of_thr_prosthesis': 2.72,\n",
    "        'operational_technique': 2.27,\n",
    "        'anesthetic': 1.78,\n",
    "        'cement_femur_side': 2.20,\n",
    "        'this_joint_capsule_saved_all': 1.23,\n",
    "        'city': 1.36,\n",
    "        'country': 1.24,\n",
    "        'patient-reported_positive_outcomes': 1.26,\n",
    "        'patient-reported_complications': 2.74,\n",
    "        'cut_muscles_is_fixed_again': 2.17,\n",
    "        'complete_opera_report_is_given': 0.06,\n",
    "        'hr_average_size': 2.13,\n",
    "        'hr_average_location': 2.57,\n",
    "        'assesses_x-ray': 0.35,\n",
    "        'x-ray_at_discharge': 0.66,\n",
    "        'two-sided_operation': 1.32,\n",
    "        'foreign_patients': 2.07,\n",
    "        'address': 0.55,\n",
    "        'street': 2.71,\n",
    "        'local': 2.66,\n",
    "        'postal_code': 0.36,\n",
    "        'phone_normal': 1.70,\n",
    "        'phone_free_of_charge': 2.77,\n",
    "        'fax': 1.36,\n",
    "        'mobile': 1.77,\n",
    "        'email': 0.08,\n",
    "        'homepage': 1.45,\n",
    "    }\n",
    "\n",
    "    results = index.search(\n",
    "        query=query,\n",
    "        filter_dict={},\n",
    "        boost_dict=boost,\n",
    "        num_results=10\n",
    "    )\n",
    "\n",
    "    return results\n",
    "\n",
    "evaluate(ground_truth, lambda q: minsearch_improved(q['question']))"
   ]
  },
  {
   "cell_type": "markdown",
   "id": "4de669d5-f9a4-4da0-b533-2781204ece3b",
   "metadata": {},
   "source": [
    "## RAG evaluation"
   ]
  },
  {
   "cell_type": "code",
   "execution_count": 12,
   "id": "4ab3ae9a-8639-4244-ada3-90d321f0ceb0",
   "metadata": {},
   "outputs": [],
   "source": [
    "prompt2_template = \"\"\"\n",
    "You are an expert evaluator for a RAG system.\n",
    "Your task is to analyze the relevance of the generated answer to the given question.\n",
    "Based on the relevance of the generated answer, you will classify it\n",
    "as \"NON_RELEVANT\", \"PARTLY_RELEVANT\", or \"RELEVANT\".\n",
    "\n",
    "Here is the data for evaluation:\n",
    "\n",
    "Question: {question}\n",
    "Generated Answer: {answer_llm}\n",
    "\n",
    "Please analyze the content and context of the generated answer in relation to the question\n",
    "and provide your evaluation in parsable JSON without using code blocks:\n",
    "\n",
    "{{\n",
    "  \"Relevance\": \"NON_RELEVANT\" | \"PARTLY_RELEVANT\" | \"RELEVANT\",\n",
    "  \"Explanation\": \"[Provide a brief explanation for your evaluation]\"\n",
    "}}\n",
    "\"\"\".strip()"
   ]
  },
  {
   "cell_type": "code",
   "execution_count": 30,
   "id": "bb3a0f2a-a232-4864-bf43-c93578667914",
   "metadata": {},
   "outputs": [
    {
     "data": {
      "text/plain": [
       "5160"
      ]
     },
     "execution_count": 30,
     "metadata": {},
     "output_type": "execute_result"
    }
   ],
   "source": [
    "len(ground_truth)"
   ]
  },
  {
   "cell_type": "code",
   "execution_count": 20,
   "id": "b2be59fd-2d38-4aeb-a335-025dc1cab029",
   "metadata": {},
   "outputs": [],
   "source": [
    "record = ground_truth[0]\n",
    "question = record['question']\n",
    "answer_llm = rag(question)"
   ]
  },
  {
   "cell_type": "code",
   "execution_count": 32,
   "id": "84cf756f-cd94-4e0a-8c17-4144da4bb701",
   "metadata": {},
   "outputs": [
    {
     "data": {
      "text/plain": [
       "{'id': 0,\n",
       " 'question': \"What is Dr. Michael Anderson's experience with hip surgeries?\"}"
      ]
     },
     "execution_count": 32,
     "metadata": {},
     "output_type": "execute_result"
    }
   ],
   "source": [
    "record"
   ]
  },
  {
   "cell_type": "code",
   "execution_count": 33,
   "id": "8f1a5c96-6904-4cd6-8f36-4c6f56ead161",
   "metadata": {},
   "outputs": [
    {
     "name": "stdout",
     "output_type": "stream",
     "text": [
      "Dr. Michael Anderson has not reported any patient-reported positive outcomes or complications related to hip surgeries. His data regarding the number of hip resurfacings (HR), total hip replacements (THR), or any specific operational techniques are missing. Therefore, it is difficult to assess his experience or track record in hip surgeries based solely on the available information.\n"
     ]
    }
   ],
   "source": [
    "print(answer_llm)"
   ]
  },
  {
   "cell_type": "code",
   "execution_count": 34,
   "id": "311e3d42-30a4-4fe7-906c-c3806442bc8d",
   "metadata": {},
   "outputs": [
    {
     "name": "stdout",
     "output_type": "stream",
     "text": [
      "You are an expert evaluator for a RAG system.\n",
      "Your task is to analyze the relevance of the generated answer to the given question.\n",
      "Based on the relevance of the generated answer, you will classify it\n",
      "as \"NON_RELEVANT\", \"PARTLY_RELEVANT\", or \"RELEVANT\".\n",
      "\n",
      "Here is the data for evaluation:\n",
      "\n",
      "Question: What is Dr. Michael Anderson's experience with hip surgeries?\n",
      "Generated Answer: Dr. Michael Anderson has not reported any patient-reported positive outcomes or complications related to hip surgeries. His data regarding the number of hip resurfacings (HR), total hip replacements (THR), or any specific operational techniques are missing. Therefore, it is difficult to assess his experience or track record in hip surgeries based solely on the available information.\n",
      "\n",
      "Please analyze the content and context of the generated answer in relation to the question\n",
      "and provide your evaluation in parsable JSON without using code blocks:\n",
      "\n",
      "{\n",
      "  \"Relevance\": \"NON_RELEVANT\" | \"PARTLY_RELEVANT\" | \"RELEVANT\",\n",
      "  \"Explanation\": \"[Provide a brief explanation for your evaluation]\"\n",
      "}\n"
     ]
    }
   ],
   "source": [
    "prompt = prompt2_template.format(question=question, answer_llm=answer_llm)\n",
    "print(prompt)"
   ]
  },
  {
   "cell_type": "code",
   "execution_count": 11,
   "id": "c081e711-4e5c-4cd4-bc8d-79a29c1f1d77",
   "metadata": {},
   "outputs": [],
   "source": [
    "import json\n",
    "from tqdm.auto import tqdm"
   ]
  },
  {
   "cell_type": "code",
   "execution_count": 15,
   "id": "6da1bf76-7670-4723-847d-15aad4a5d4ac",
   "metadata": {},
   "outputs": [],
   "source": [
    "df_sample = df_question.sample(n=200, random_state=1)"
   ]
  },
  {
   "cell_type": "code",
   "execution_count": 16,
   "id": "98a38031-1e2b-4134-bc88-6d9e857771f0",
   "metadata": {},
   "outputs": [],
   "source": [
    "sample = df_sample.to_dict(orient='records')"
   ]
  },
  {
   "cell_type": "code",
   "execution_count": 38,
   "id": "a66cdc62-803c-4c79-a687-581788fe1d71",
   "metadata": {},
   "outputs": [
    {
     "data": {
      "application/vnd.jupyter.widget-view+json": {
       "model_id": "f052648514c447129aa4bd2b1f1dafec",
       "version_major": 2,
       "version_minor": 0
      },
      "text/plain": [
       "  0%|          | 0/200 [00:00<?, ?it/s]"
      ]
     },
     "metadata": {},
     "output_type": "display_data"
    }
   ],
   "source": [
    "evaluations = []\n",
    "\n",
    "for record in tqdm(sample):\n",
    "    question = record['question']\n",
    "    answer_llm = rag(question) \n",
    "\n",
    "    prompt = prompt2_template.format(\n",
    "        question=question,\n",
    "        answer_llm=answer_llm\n",
    "    )\n",
    "\n",
    "    evaluation = llm(prompt)\n",
    "    evaluation = json.loads(evaluation)\n",
    "\n",
    "    evaluations.append((record, answer_llm, evaluation))"
   ]
  },
  {
   "cell_type": "code",
   "execution_count": 39,
   "id": "cf61170e-bfde-4889-8cd3-98fbfcc89918",
   "metadata": {},
   "outputs": [],
   "source": [
    "df_eval = pd.DataFrame(evaluations, columns=['record', 'answer', 'evaluation'])\n",
    "\n",
    "df_eval['id'] = df_eval.record.apply(lambda d: d['id'])\n",
    "df_eval['question'] = df_eval.record.apply(lambda d: d['question'])\n",
    "\n",
    "df_eval['relevance'] = df_eval.evaluation.apply(lambda d: d['Relevance'])\n",
    "df_eval['explanation'] = df_eval.evaluation.apply(lambda d: d['Explanation'])\n",
    "\n",
    "del df_eval['record']\n",
    "del df_eval['evaluation']"
   ]
  },
  {
   "cell_type": "code",
   "execution_count": 40,
   "id": "ac52a63d-6d96-4116-a3d3-b906d52c2afd",
   "metadata": {},
   "outputs": [
    {
     "data": {
      "text/plain": [
       "relevance\n",
       "RELEVANT           0.82\n",
       "PARTLY_RELEVANT    0.14\n",
       "NON_RELEVANT       0.04\n",
       "Name: proportion, dtype: float64"
      ]
     },
     "execution_count": 40,
     "metadata": {},
     "output_type": "execute_result"
    }
   ],
   "source": [
    "df_eval.relevance.value_counts(normalize=True)"
   ]
  },
  {
   "cell_type": "code",
   "execution_count": 41,
   "id": "3b1acbc2-9690-4d51-98a6-b81ee659ceb9",
   "metadata": {},
   "outputs": [],
   "source": [
    "df_eval.to_csv('./Find-a-Doctor//data/rag-eval-gpt-4o-mini.csv', index=False)"
   ]
  },
  {
   "cell_type": "code",
   "execution_count": 42,
   "id": "9492ff9c-d633-4d02-a573-217e3978ccbb",
   "metadata": {},
   "outputs": [
    {
     "data": {
      "text/html": [
       "<div>\n",
       "<style scoped>\n",
       "    .dataframe tbody tr th:only-of-type {\n",
       "        vertical-align: middle;\n",
       "    }\n",
       "\n",
       "    .dataframe tbody tr th {\n",
       "        vertical-align: top;\n",
       "    }\n",
       "\n",
       "    .dataframe thead th {\n",
       "        text-align: right;\n",
       "    }\n",
       "</style>\n",
       "<table border=\"1\" class=\"dataframe\">\n",
       "  <thead>\n",
       "    <tr style=\"text-align: right;\">\n",
       "      <th></th>\n",
       "      <th>answer</th>\n",
       "      <th>id</th>\n",
       "      <th>question</th>\n",
       "      <th>relevance</th>\n",
       "      <th>explanation</th>\n",
       "    </tr>\n",
       "  </thead>\n",
       "  <tbody>\n",
       "    <tr>\n",
       "      <th>34</th>\n",
       "      <td>Dr. David Ross does not have any specific info...</td>\n",
       "      <td>861</td>\n",
       "      <td>What methods does Dr. Ross use to assess X-ray...</td>\n",
       "      <td>NON_RELEVANT</td>\n",
       "      <td>The generated answer does not provide any info...</td>\n",
       "    </tr>\n",
       "    <tr>\n",
       "      <th>43</th>\n",
       "      <td>The operational technique for hip surgeries pe...</td>\n",
       "      <td>382</td>\n",
       "      <td>What is Dr. Brown's operational technique for ...</td>\n",
       "      <td>NON_RELEVANT</td>\n",
       "      <td>The generated answer does not provide any info...</td>\n",
       "    </tr>\n",
       "    <tr>\n",
       "      <th>47</th>\n",
       "      <td>The operational techniques utilized by Dr. Sep...</td>\n",
       "      <td>404</td>\n",
       "      <td>What specific operational techniques does Dr. ...</td>\n",
       "      <td>NON_RELEVANT</td>\n",
       "      <td>The generated answer does not provide any info...</td>\n",
       "    </tr>\n",
       "    <tr>\n",
       "      <th>61</th>\n",
       "      <td>The type of anesthesia administered during sur...</td>\n",
       "      <td>540</td>\n",
       "      <td>What type of anesthesia is administered during...</td>\n",
       "      <td>NON_RELEVANT</td>\n",
       "      <td>The generated answer does not provide any rele...</td>\n",
       "    </tr>\n",
       "    <tr>\n",
       "      <th>137</th>\n",
       "      <td>The information regarding Dr. Mark Kelley's op...</td>\n",
       "      <td>614</td>\n",
       "      <td>Can you provide details about Dr. Mark Kelley'...</td>\n",
       "      <td>NON_RELEVANT</td>\n",
       "      <td>The generated answer explicitly states that th...</td>\n",
       "    </tr>\n",
       "    <tr>\n",
       "      <th>157</th>\n",
       "      <td>Dr. Jacobus J. van Sittert has performed 2 hip...</td>\n",
       "      <td>56</td>\n",
       "      <td>What is the experience level of Dr. Jacobus J....</td>\n",
       "      <td>NON_RELEVANT</td>\n",
       "      <td>The generated answer states that Dr. Jacobus J...</td>\n",
       "    </tr>\n",
       "    <tr>\n",
       "      <th>173</th>\n",
       "      <td>Dr. Markovic's anesthesia type is not specifie...</td>\n",
       "      <td>275</td>\n",
       "      <td>What type of anesthesia does Dr. Markovic use ...</td>\n",
       "      <td>NON_RELEVANT</td>\n",
       "      <td>The generated answer does not provide any info...</td>\n",
       "    </tr>\n",
       "    <tr>\n",
       "      <th>194</th>\n",
       "      <td>The operational technique used by Dr. Swanson ...</td>\n",
       "      <td>955</td>\n",
       "      <td>What is the operational technique used by Dr. ...</td>\n",
       "      <td>NON_RELEVANT</td>\n",
       "      <td>The generated answer states that the operation...</td>\n",
       "    </tr>\n",
       "  </tbody>\n",
       "</table>\n",
       "</div>"
      ],
      "text/plain": [
       "                                                answer   id  \\\n",
       "34   Dr. David Ross does not have any specific info...  861   \n",
       "43   The operational technique for hip surgeries pe...  382   \n",
       "47   The operational techniques utilized by Dr. Sep...  404   \n",
       "61   The type of anesthesia administered during sur...  540   \n",
       "137  The information regarding Dr. Mark Kelley's op...  614   \n",
       "157  Dr. Jacobus J. van Sittert has performed 2 hip...   56   \n",
       "173  Dr. Markovic's anesthesia type is not specifie...  275   \n",
       "194  The operational technique used by Dr. Swanson ...  955   \n",
       "\n",
       "                                              question     relevance  \\\n",
       "34   What methods does Dr. Ross use to assess X-ray...  NON_RELEVANT   \n",
       "43   What is Dr. Brown's operational technique for ...  NON_RELEVANT   \n",
       "47   What specific operational techniques does Dr. ...  NON_RELEVANT   \n",
       "61   What type of anesthesia is administered during...  NON_RELEVANT   \n",
       "137  Can you provide details about Dr. Mark Kelley'...  NON_RELEVANT   \n",
       "157  What is the experience level of Dr. Jacobus J....  NON_RELEVANT   \n",
       "173  What type of anesthesia does Dr. Markovic use ...  NON_RELEVANT   \n",
       "194  What is the operational technique used by Dr. ...  NON_RELEVANT   \n",
       "\n",
       "                                           explanation  \n",
       "34   The generated answer does not provide any info...  \n",
       "43   The generated answer does not provide any info...  \n",
       "47   The generated answer does not provide any info...  \n",
       "61   The generated answer does not provide any rele...  \n",
       "137  The generated answer explicitly states that th...  \n",
       "157  The generated answer states that Dr. Jacobus J...  \n",
       "173  The generated answer does not provide any info...  \n",
       "194  The generated answer states that the operation...  "
      ]
     },
     "execution_count": 42,
     "metadata": {},
     "output_type": "execute_result"
    }
   ],
   "source": [
    "df_eval[df_eval.relevance == 'NON_RELEVANT']"
   ]
  },
  {
   "cell_type": "code",
   "execution_count": 13,
   "id": "e42d0320-be3a-4723-85c3-a3acde68d755",
   "metadata": {},
   "outputs": [],
   "source": [
    "# Importing Necessary Libraries\n",
    "\n",
    "import os\n",
    "from tqdm.auto import tqdm\n",
    "from groq import Groq\n",
    "from litellm import completion\n",
    "# Instantiation of Groq Client\n",
    "\n",
    "client = Groq(\n",
    "\n",
    "    api_key=os.environ.get(\"GROQ_SECRET_ACCESS_KEY\"),\n",
    "\n",
    ")\n",
    "\n"
   ]
  },
  {
   "cell_type": "code",
   "execution_count": 13,
   "id": "f41b8095-cc03-4e66-86f7-44dc54a7ba78",
   "metadata": {},
   "outputs": [],
   "source": [
    "df_sample = df_question.sample(n=200, random_state=1)"
   ]
  },
  {
   "cell_type": "code",
   "execution_count": 14,
   "id": "6c1a2278-11b8-468e-9603-d92ff1330dd2",
   "metadata": {},
   "outputs": [],
   "source": [
    "sample = df_sample.to_dict(orient='records')"
   ]
  },
  {
   "cell_type": "code",
   "execution_count": 15,
   "id": "2d5b4f02-3377-4760-99e9-a5b3a7bc9c43",
   "metadata": {},
   "outputs": [],
   "source": [
    "def search(query):\n",
    "    boost = {}\n",
    "\n",
    "    results = index.search(\n",
    "        query=query,\n",
    "        filter_dict={},\n",
    "        boost_dict=boost,\n",
    "        num_results=100\n",
    "    )\n",
    "\n",
    "    return results"
   ]
  },
  {
   "cell_type": "code",
   "execution_count": null,
   "id": "c8ee343d-c06a-4e19-b197-4e9987a024c3",
   "metadata": {},
   "outputs": [],
   "source": [
    "# Load model directly\n",
    "from transformers import AutoTokenizer, AutoModelForCausalLM\n",
    "\n",
    "tokenizer = AutoTokenizer.from_pretrained(\"Groq/Llama-3-Groq-8B-Tool-Use\")\n",
    "model = AutoModelForCausalLM.from_pretrained(\"Groq/Llama-3-Groq-8B-Tool-Use\")\n",
    "def llm(prompt, model_name=model):\n",
    "    response = client.chat.completions.create(\n",
    "        model_name=model,\n",
    "        messages=[{\"role\": \"user\", \"content\": prompt}]\n",
    "    )\n",
    "      \n",
    "    \n",
    "    return response.choices[0].message.content"
   ]
  },
  {
   "cell_type": "code",
   "execution_count": null,
   "id": "0ba83d09-b449-42fe-a025-c48d88f8ca06",
   "metadata": {},
   "outputs": [],
   "source": [
    "from transformers import pipeline\n",
    "\n",
    "# Initialize the pipeline\n",
    "completion_generator = pipeline('document-question-answering', model='Groq/Llama-3-Groq-8B-Tool-Use', tokenizer='Groq/Llama-3-Groq-8B-Tool-Use')\n",
    "def llm(prompt):\n",
    "    response = completion_generator(prompt, max_length=100, num_return_sequences=1)\n",
    "    return response[0]['text']\n"
   ]
  },
  {
   "cell_type": "code",
   "execution_count": null,
   "id": "03ccac52-834f-4b8a-bb8b-046fb1c17ef9",
   "metadata": {},
   "outputs": [],
   "source": []
  },
  {
   "cell_type": "code",
   "execution_count": 16,
   "id": "3fb5c8ee-6b2c-4e82-8c14-e087fc501a4a",
   "metadata": {},
   "outputs": [],
   "source": [
    "from huggingface_hub import InferenceClient\n",
    "import os\n",
    "token = os.environ.get(\"HF_TOKEN\")\n",
    "client = InferenceClient(\n",
    "    \"meta-llama/Llama-3.1-8B-Instruct\",\n",
    "    token=token,\n",
    ")\n",
    "def llm(prompt):\n",
    "    response = client.chat_completion(\n",
    "\tmessages=[{\"role\": \"user\", \"content\": prompt}],\n",
    "\tmax_tokens=500,\n",
    "\tstream=True,\n",
    "    )\n",
    "    return message.choices[0].delta.content\n",
    "\n",
    "    "
   ]
  },
  {
   "cell_type": "code",
   "execution_count": 17,
   "id": "69fed4d5-a2c4-448f-ae83-8bc459a31bbc",
   "metadata": {},
   "outputs": [],
   "source": [
    "def rag(query):\n",
    "    search_results = search(query)\n",
    "    prompt = build_prompt(query, search_results)\n",
    "  #  print(prompt)\n",
    "    answer = llm(prompt)\n",
    "    return answer"
   ]
  },
  {
   "cell_type": "code",
   "execution_count": 18,
   "id": "54274e31-8fd0-44e2-81ba-b5ef6c3b588c",
   "metadata": {},
   "outputs": [
    {
     "data": {
      "application/vnd.jupyter.widget-view+json": {
       "model_id": "9edbded78ebc412e8364e2f4af875b8c",
       "version_major": 2,
       "version_minor": 0
      },
      "text/plain": [
       "  0%|          | 0/200 [00:00<?, ?it/s]"
      ]
     },
     "metadata": {},
     "output_type": "display_data"
    },
    {
     "ename": "HfHubHTTPError",
     "evalue": "429 Client Error: Too Many Requests for url: https://api-inference.huggingface.co/models/meta-llama/Llama-3.1-8B-Instruct/v1/chat/completions (Request ID: zwtFXDsflroxPAk_m2BUc)\n\nRate limit reached. Please log in or use a HF access token",
     "output_type": "error",
     "traceback": [
      "\u001b[0;31m---------------------------------------------------------------------------\u001b[0m",
      "\u001b[0;31mHTTPError\u001b[0m                                 Traceback (most recent call last)",
      "File \u001b[0;32m~/miniconda3/envs/find-a-doctor/lib/python3.12/site-packages/huggingface_hub/utils/_http.py:406\u001b[0m, in \u001b[0;36mhf_raise_for_status\u001b[0;34m(response, endpoint_name)\u001b[0m\n\u001b[1;32m    405\u001b[0m \u001b[38;5;28;01mtry\u001b[39;00m:\n\u001b[0;32m--> 406\u001b[0m     \u001b[43mresponse\u001b[49m\u001b[38;5;241;43m.\u001b[39;49m\u001b[43mraise_for_status\u001b[49m\u001b[43m(\u001b[49m\u001b[43m)\u001b[49m\n\u001b[1;32m    407\u001b[0m \u001b[38;5;28;01mexcept\u001b[39;00m HTTPError \u001b[38;5;28;01mas\u001b[39;00m e:\n",
      "File \u001b[0;32m~/miniconda3/envs/find-a-doctor/lib/python3.12/site-packages/requests/models.py:1024\u001b[0m, in \u001b[0;36mResponse.raise_for_status\u001b[0;34m(self)\u001b[0m\n\u001b[1;32m   1023\u001b[0m \u001b[38;5;28;01mif\u001b[39;00m http_error_msg:\n\u001b[0;32m-> 1024\u001b[0m     \u001b[38;5;28;01mraise\u001b[39;00m HTTPError(http_error_msg, response\u001b[38;5;241m=\u001b[39m\u001b[38;5;28mself\u001b[39m)\n",
      "\u001b[0;31mHTTPError\u001b[0m: 429 Client Error: Too Many Requests for url: https://api-inference.huggingface.co/models/meta-llama/Llama-3.1-8B-Instruct/v1/chat/completions",
      "\nThe above exception was the direct cause of the following exception:\n",
      "\u001b[0;31mHfHubHTTPError\u001b[0m                            Traceback (most recent call last)",
      "Cell \u001b[0;32mIn[18], line 5\u001b[0m\n\u001b[1;32m      3\u001b[0m \u001b[38;5;28;01mfor\u001b[39;00m record \u001b[38;5;129;01min\u001b[39;00m tqdm(sample):\n\u001b[1;32m      4\u001b[0m     question \u001b[38;5;241m=\u001b[39m record[\u001b[38;5;124m'\u001b[39m\u001b[38;5;124mquestion\u001b[39m\u001b[38;5;124m'\u001b[39m]\n\u001b[0;32m----> 5\u001b[0m     answer_llm \u001b[38;5;241m=\u001b[39m \u001b[43mrag\u001b[49m\u001b[43m(\u001b[49m\u001b[43mquestion\u001b[49m\u001b[43m)\u001b[49m \n\u001b[1;32m      7\u001b[0m     prompt \u001b[38;5;241m=\u001b[39m prompt2_template\u001b[38;5;241m.\u001b[39mformat(\n\u001b[1;32m      8\u001b[0m         question\u001b[38;5;241m=\u001b[39mquestion,\n\u001b[1;32m      9\u001b[0m         answer_llm\u001b[38;5;241m=\u001b[39manswer_llm\n\u001b[1;32m     10\u001b[0m     )\n\u001b[1;32m     12\u001b[0m     evaluation \u001b[38;5;241m=\u001b[39m llm(prompt)\n",
      "Cell \u001b[0;32mIn[17], line 5\u001b[0m, in \u001b[0;36mrag\u001b[0;34m(query)\u001b[0m\n\u001b[1;32m      3\u001b[0m   prompt \u001b[38;5;241m=\u001b[39m build_prompt(query, search_results)\n\u001b[1;32m      4\u001b[0m \u001b[38;5;66;03m#  print(prompt)\u001b[39;00m\n\u001b[0;32m----> 5\u001b[0m   answer \u001b[38;5;241m=\u001b[39m \u001b[43mllm\u001b[49m\u001b[43m(\u001b[49m\u001b[43mprompt\u001b[49m\u001b[43m)\u001b[49m\n\u001b[1;32m      6\u001b[0m   \u001b[38;5;28;01mreturn\u001b[39;00m answer\n",
      "Cell \u001b[0;32mIn[16], line 9\u001b[0m, in \u001b[0;36mllm\u001b[0;34m(prompt)\u001b[0m\n\u001b[1;32m      8\u001b[0m \u001b[38;5;28;01mdef\u001b[39;00m \u001b[38;5;21mllm\u001b[39m(prompt):\n\u001b[0;32m----> 9\u001b[0m     response \u001b[38;5;241m=\u001b[39m \u001b[43mclient\u001b[49m\u001b[38;5;241;43m.\u001b[39;49m\u001b[43mchat_completion\u001b[49m\u001b[43m(\u001b[49m\n\u001b[1;32m     10\u001b[0m \u001b[43m\t\u001b[49m\u001b[43mmessages\u001b[49m\u001b[38;5;241;43m=\u001b[39;49m\u001b[43m[\u001b[49m\u001b[43m{\u001b[49m\u001b[38;5;124;43m\"\u001b[39;49m\u001b[38;5;124;43mrole\u001b[39;49m\u001b[38;5;124;43m\"\u001b[39;49m\u001b[43m:\u001b[49m\u001b[43m \u001b[49m\u001b[38;5;124;43m\"\u001b[39;49m\u001b[38;5;124;43muser\u001b[39;49m\u001b[38;5;124;43m\"\u001b[39;49m\u001b[43m,\u001b[49m\u001b[43m \u001b[49m\u001b[38;5;124;43m\"\u001b[39;49m\u001b[38;5;124;43mcontent\u001b[39;49m\u001b[38;5;124;43m\"\u001b[39;49m\u001b[43m:\u001b[49m\u001b[43m \u001b[49m\u001b[43mprompt\u001b[49m\u001b[43m}\u001b[49m\u001b[43m]\u001b[49m\u001b[43m,\u001b[49m\n\u001b[1;32m     11\u001b[0m \u001b[43m\t\u001b[49m\u001b[43mmax_tokens\u001b[49m\u001b[38;5;241;43m=\u001b[39;49m\u001b[38;5;241;43m500\u001b[39;49m\u001b[43m,\u001b[49m\n\u001b[1;32m     12\u001b[0m \u001b[43m\t\u001b[49m\u001b[43mstream\u001b[49m\u001b[38;5;241;43m=\u001b[39;49m\u001b[38;5;28;43;01mTrue\u001b[39;49;00m\u001b[43m,\u001b[49m\n\u001b[1;32m     13\u001b[0m \u001b[43m    \u001b[49m\u001b[43m)\u001b[49m\n\u001b[1;32m     14\u001b[0m     \u001b[38;5;28;01mreturn\u001b[39;00m message\u001b[38;5;241m.\u001b[39mchoices[\u001b[38;5;241m0\u001b[39m]\u001b[38;5;241m.\u001b[39mdelta\u001b[38;5;241m.\u001b[39mcontent\n",
      "File \u001b[0;32m~/miniconda3/envs/find-a-doctor/lib/python3.12/site-packages/huggingface_hub/inference/_client.py:842\u001b[0m, in \u001b[0;36mInferenceClient.chat_completion\u001b[0;34m(self, messages, model, stream, frequency_penalty, logit_bias, logprobs, max_tokens, n, presence_penalty, response_format, seed, stop, temperature, tool_choice, tool_prompt, tools, top_logprobs, top_p)\u001b[0m\n\u001b[1;32m    821\u001b[0m payload \u001b[38;5;241m=\u001b[39m \u001b[38;5;28mdict\u001b[39m(\n\u001b[1;32m    822\u001b[0m     model\u001b[38;5;241m=\u001b[39mmodel_id,\n\u001b[1;32m    823\u001b[0m     messages\u001b[38;5;241m=\u001b[39mmessages,\n\u001b[0;32m   (...)\u001b[0m\n\u001b[1;32m    839\u001b[0m     stream\u001b[38;5;241m=\u001b[39mstream,\n\u001b[1;32m    840\u001b[0m )\n\u001b[1;32m    841\u001b[0m payload \u001b[38;5;241m=\u001b[39m {key: value \u001b[38;5;28;01mfor\u001b[39;00m key, value \u001b[38;5;129;01min\u001b[39;00m payload\u001b[38;5;241m.\u001b[39mitems() \u001b[38;5;28;01mif\u001b[39;00m value \u001b[38;5;129;01mis\u001b[39;00m \u001b[38;5;129;01mnot\u001b[39;00m \u001b[38;5;28;01mNone\u001b[39;00m}\n\u001b[0;32m--> 842\u001b[0m data \u001b[38;5;241m=\u001b[39m \u001b[38;5;28;43mself\u001b[39;49m\u001b[38;5;241;43m.\u001b[39;49m\u001b[43mpost\u001b[49m\u001b[43m(\u001b[49m\u001b[43mmodel\u001b[49m\u001b[38;5;241;43m=\u001b[39;49m\u001b[43mmodel_url\u001b[49m\u001b[43m,\u001b[49m\u001b[43m \u001b[49m\u001b[43mjson\u001b[49m\u001b[38;5;241;43m=\u001b[39;49m\u001b[43mpayload\u001b[49m\u001b[43m,\u001b[49m\u001b[43m \u001b[49m\u001b[43mstream\u001b[49m\u001b[38;5;241;43m=\u001b[39;49m\u001b[43mstream\u001b[49m\u001b[43m)\u001b[49m\n\u001b[1;32m    844\u001b[0m \u001b[38;5;28;01mif\u001b[39;00m stream:\n\u001b[1;32m    845\u001b[0m     \u001b[38;5;28;01mreturn\u001b[39;00m _stream_chat_completion_response(data)  \u001b[38;5;66;03m# type: ignore[arg-type]\u001b[39;00m\n",
      "File \u001b[0;32m~/miniconda3/envs/find-a-doctor/lib/python3.12/site-packages/huggingface_hub/inference/_client.py:305\u001b[0m, in \u001b[0;36mInferenceClient.post\u001b[0;34m(self, json, data, model, task, stream)\u001b[0m\n\u001b[1;32m    302\u001b[0m         \u001b[38;5;28;01mraise\u001b[39;00m InferenceTimeoutError(\u001b[38;5;124mf\u001b[39m\u001b[38;5;124m\"\u001b[39m\u001b[38;5;124mInference call timed out: \u001b[39m\u001b[38;5;132;01m{\u001b[39;00murl\u001b[38;5;132;01m}\u001b[39;00m\u001b[38;5;124m\"\u001b[39m) \u001b[38;5;28;01mfrom\u001b[39;00m \u001b[38;5;21;01merror\u001b[39;00m  \u001b[38;5;66;03m# type: ignore\u001b[39;00m\n\u001b[1;32m    304\u001b[0m \u001b[38;5;28;01mtry\u001b[39;00m:\n\u001b[0;32m--> 305\u001b[0m     \u001b[43mhf_raise_for_status\u001b[49m\u001b[43m(\u001b[49m\u001b[43mresponse\u001b[49m\u001b[43m)\u001b[49m\n\u001b[1;32m    306\u001b[0m     \u001b[38;5;28;01mreturn\u001b[39;00m response\u001b[38;5;241m.\u001b[39miter_lines() \u001b[38;5;28;01mif\u001b[39;00m stream \u001b[38;5;28;01melse\u001b[39;00m response\u001b[38;5;241m.\u001b[39mcontent\n\u001b[1;32m    307\u001b[0m \u001b[38;5;28;01mexcept\u001b[39;00m HTTPError \u001b[38;5;28;01mas\u001b[39;00m error:\n",
      "File \u001b[0;32m~/miniconda3/envs/find-a-doctor/lib/python3.12/site-packages/huggingface_hub/utils/_http.py:477\u001b[0m, in \u001b[0;36mhf_raise_for_status\u001b[0;34m(response, endpoint_name)\u001b[0m\n\u001b[1;32m    473\u001b[0m     \u001b[38;5;28;01mraise\u001b[39;00m _format(HfHubHTTPError, message, response) \u001b[38;5;28;01mfrom\u001b[39;00m \u001b[38;5;21;01me\u001b[39;00m\n\u001b[1;32m    475\u001b[0m \u001b[38;5;66;03m# Convert `HTTPError` into a `HfHubHTTPError` to display request information\u001b[39;00m\n\u001b[1;32m    476\u001b[0m \u001b[38;5;66;03m# as well (request id and/or server error message)\u001b[39;00m\n\u001b[0;32m--> 477\u001b[0m \u001b[38;5;28;01mraise\u001b[39;00m _format(HfHubHTTPError, \u001b[38;5;28mstr\u001b[39m(e), response) \u001b[38;5;28;01mfrom\u001b[39;00m \u001b[38;5;21;01me\u001b[39;00m\n",
      "\u001b[0;31mHfHubHTTPError\u001b[0m: 429 Client Error: Too Many Requests for url: https://api-inference.huggingface.co/models/meta-llama/Llama-3.1-8B-Instruct/v1/chat/completions (Request ID: zwtFXDsflroxPAk_m2BUc)\n\nRate limit reached. Please log in or use a HF access token"
     ]
    }
   ],
   "source": [
    "\n",
    "from tqdm.auto import tqdm\n",
    "evaluation_hf = []\n",
    "for record in tqdm(sample):\n",
    "    question = record['question']\n",
    "    answer_llm = rag(question) \n",
    "\n",
    "    prompt = prompt2_template.format(\n",
    "        question=question,\n",
    "        answer_llm=answer_llm\n",
    "    )\n",
    "\n",
    "    evaluation = llm(prompt)\n",
    "    evaluation = json.loads(evaluation)\n",
    "    \n",
    "    evaluations_hf.append((record, answer_llm, evaluation))\n",
    "    time.sleep(72)"
   ]
  },
  {
   "cell_type": "code",
   "execution_count": 33,
   "id": "4cd6ae64-67ee-4555-a909-f7cf43196a0b",
   "metadata": {},
   "outputs": [
    {
     "data": {
      "application/vnd.jupyter.widget-view+json": {
       "model_id": "62319913b293448cb00bffd3d7eec4c1",
       "version_major": 2,
       "version_minor": 0
      },
      "text/plain": [
       "  0%|          | 0/200 [00:00<?, ?it/s]"
      ]
     },
     "metadata": {},
     "output_type": "display_data"
    },
    {
     "ename": "RateLimitError",
     "evalue": "Error code: 429 - {'error': {'message': 'You exceeded your current quota, please check your plan and billing details. For more information on this error, read the docs: https://platform.openai.com/docs/guides/error-codes/api-errors.', 'type': 'insufficient_quota', 'param': None, 'code': 'insufficient_quota'}}",
     "output_type": "error",
     "traceback": [
      "\u001b[0;31m---------------------------------------------------------------------------\u001b[0m",
      "\u001b[0;31mRateLimitError\u001b[0m                            Traceback (most recent call last)",
      "Cell \u001b[0;32mIn[33], line 5\u001b[0m\n\u001b[1;32m      3\u001b[0m \u001b[38;5;28;01mfor\u001b[39;00m record \u001b[38;5;129;01min\u001b[39;00m tqdm(sample):\n\u001b[1;32m      4\u001b[0m     question \u001b[38;5;241m=\u001b[39m record[\u001b[38;5;124m'\u001b[39m\u001b[38;5;124mquestion\u001b[39m\u001b[38;5;124m'\u001b[39m]\n\u001b[0;32m----> 5\u001b[0m     answer_llm \u001b[38;5;241m=\u001b[39m \u001b[43mrag\u001b[49m\u001b[43m(\u001b[49m\u001b[43mquestion\u001b[49m\u001b[43m,\u001b[49m\u001b[43m \u001b[49m\u001b[43mmodel\u001b[49m\u001b[38;5;241;43m=\u001b[39;49m\u001b[38;5;124;43m'\u001b[39;49m\u001b[38;5;124;43mgpt-4o\u001b[39;49m\u001b[38;5;124;43m'\u001b[39;49m\u001b[43m)\u001b[49m \n\u001b[1;32m      7\u001b[0m     prompt \u001b[38;5;241m=\u001b[39m prompt2_template\u001b[38;5;241m.\u001b[39mformat(\n\u001b[1;32m      8\u001b[0m         question\u001b[38;5;241m=\u001b[39mquestion,\n\u001b[1;32m      9\u001b[0m         answer_llm\u001b[38;5;241m=\u001b[39manswer_llm\n\u001b[1;32m     10\u001b[0m     )\n\u001b[1;32m     12\u001b[0m     evaluation \u001b[38;5;241m=\u001b[39m llm(prompt)\n",
      "Cell \u001b[0;32mIn[13], line 5\u001b[0m, in \u001b[0;36mrag\u001b[0;34m(query, model)\u001b[0m\n\u001b[1;32m      3\u001b[0m   prompt \u001b[38;5;241m=\u001b[39m build_prompt(query, search_results)\n\u001b[1;32m      4\u001b[0m \u001b[38;5;66;03m#  print(prompt)\u001b[39;00m\n\u001b[0;32m----> 5\u001b[0m   answer \u001b[38;5;241m=\u001b[39m \u001b[43mllm\u001b[49m\u001b[43m(\u001b[49m\u001b[43mprompt\u001b[49m\u001b[43m,\u001b[49m\u001b[43m \u001b[49m\u001b[43mmodel\u001b[49m\u001b[38;5;241;43m=\u001b[39;49m\u001b[43mmodel\u001b[49m\u001b[43m)\u001b[49m\n\u001b[1;32m      6\u001b[0m   \u001b[38;5;28;01mreturn\u001b[39;00m answer\n",
      "Cell \u001b[0;32mIn[12], line 2\u001b[0m, in \u001b[0;36mllm\u001b[0;34m(prompt, model)\u001b[0m\n\u001b[1;32m      1\u001b[0m \u001b[38;5;28;01mdef\u001b[39;00m \u001b[38;5;21mllm\u001b[39m(prompt, model\u001b[38;5;241m=\u001b[39m\u001b[38;5;124m'\u001b[39m\u001b[38;5;124mgpt-4o-mini\u001b[39m\u001b[38;5;124m'\u001b[39m):\n\u001b[0;32m----> 2\u001b[0m     response \u001b[38;5;241m=\u001b[39m \u001b[43mclient\u001b[49m\u001b[38;5;241;43m.\u001b[39;49m\u001b[43mchat\u001b[49m\u001b[38;5;241;43m.\u001b[39;49m\u001b[43mcompletions\u001b[49m\u001b[38;5;241;43m.\u001b[39;49m\u001b[43mcreate\u001b[49m\u001b[43m(\u001b[49m\n\u001b[1;32m      3\u001b[0m \u001b[43m        \u001b[49m\u001b[43mmodel\u001b[49m\u001b[38;5;241;43m=\u001b[39;49m\u001b[43mmodel\u001b[49m\u001b[43m,\u001b[49m\n\u001b[1;32m      4\u001b[0m \u001b[43m        \u001b[49m\u001b[43mmessages\u001b[49m\u001b[38;5;241;43m=\u001b[39;49m\u001b[43m[\u001b[49m\u001b[43m{\u001b[49m\u001b[38;5;124;43m\"\u001b[39;49m\u001b[38;5;124;43mrole\u001b[39;49m\u001b[38;5;124;43m\"\u001b[39;49m\u001b[43m:\u001b[49m\u001b[43m \u001b[49m\u001b[38;5;124;43m\"\u001b[39;49m\u001b[38;5;124;43muser\u001b[39;49m\u001b[38;5;124;43m\"\u001b[39;49m\u001b[43m,\u001b[49m\u001b[43m \u001b[49m\u001b[38;5;124;43m\"\u001b[39;49m\u001b[38;5;124;43mcontent\u001b[39;49m\u001b[38;5;124;43m\"\u001b[39;49m\u001b[43m:\u001b[49m\u001b[43m \u001b[49m\u001b[43mprompt\u001b[49m\u001b[43m}\u001b[49m\u001b[43m]\u001b[49m\n\u001b[1;32m      5\u001b[0m \u001b[43m    \u001b[49m\u001b[43m)\u001b[49m\n\u001b[1;32m      7\u001b[0m     \u001b[38;5;28;01mreturn\u001b[39;00m response\u001b[38;5;241m.\u001b[39mchoices[\u001b[38;5;241m0\u001b[39m]\u001b[38;5;241m.\u001b[39mmessage\u001b[38;5;241m.\u001b[39mcontent\n",
      "File \u001b[0;32m~/miniconda3/envs/find-a-doctor/lib/python3.12/site-packages/openai/_utils/_utils.py:274\u001b[0m, in \u001b[0;36mrequired_args.<locals>.inner.<locals>.wrapper\u001b[0;34m(*args, **kwargs)\u001b[0m\n\u001b[1;32m    272\u001b[0m             msg \u001b[38;5;241m=\u001b[39m \u001b[38;5;124mf\u001b[39m\u001b[38;5;124m\"\u001b[39m\u001b[38;5;124mMissing required argument: \u001b[39m\u001b[38;5;132;01m{\u001b[39;00mquote(missing[\u001b[38;5;241m0\u001b[39m])\u001b[38;5;132;01m}\u001b[39;00m\u001b[38;5;124m\"\u001b[39m\n\u001b[1;32m    273\u001b[0m     \u001b[38;5;28;01mraise\u001b[39;00m \u001b[38;5;167;01mTypeError\u001b[39;00m(msg)\n\u001b[0;32m--> 274\u001b[0m \u001b[38;5;28;01mreturn\u001b[39;00m \u001b[43mfunc\u001b[49m\u001b[43m(\u001b[49m\u001b[38;5;241;43m*\u001b[39;49m\u001b[43margs\u001b[49m\u001b[43m,\u001b[49m\u001b[43m \u001b[49m\u001b[38;5;241;43m*\u001b[39;49m\u001b[38;5;241;43m*\u001b[39;49m\u001b[43mkwargs\u001b[49m\u001b[43m)\u001b[49m\n",
      "File \u001b[0;32m~/miniconda3/envs/find-a-doctor/lib/python3.12/site-packages/openai/resources/chat/completions.py:668\u001b[0m, in \u001b[0;36mCompletions.create\u001b[0;34m(self, messages, model, frequency_penalty, function_call, functions, logit_bias, logprobs, max_tokens, n, parallel_tool_calls, presence_penalty, response_format, seed, service_tier, stop, stream, stream_options, temperature, tool_choice, tools, top_logprobs, top_p, user, extra_headers, extra_query, extra_body, timeout)\u001b[0m\n\u001b[1;32m    633\u001b[0m \u001b[38;5;129m@required_args\u001b[39m([\u001b[38;5;124m\"\u001b[39m\u001b[38;5;124mmessages\u001b[39m\u001b[38;5;124m\"\u001b[39m, \u001b[38;5;124m\"\u001b[39m\u001b[38;5;124mmodel\u001b[39m\u001b[38;5;124m\"\u001b[39m], [\u001b[38;5;124m\"\u001b[39m\u001b[38;5;124mmessages\u001b[39m\u001b[38;5;124m\"\u001b[39m, \u001b[38;5;124m\"\u001b[39m\u001b[38;5;124mmodel\u001b[39m\u001b[38;5;124m\"\u001b[39m, \u001b[38;5;124m\"\u001b[39m\u001b[38;5;124mstream\u001b[39m\u001b[38;5;124m\"\u001b[39m])\n\u001b[1;32m    634\u001b[0m \u001b[38;5;28;01mdef\u001b[39;00m \u001b[38;5;21mcreate\u001b[39m(\n\u001b[1;32m    635\u001b[0m     \u001b[38;5;28mself\u001b[39m,\n\u001b[0;32m   (...)\u001b[0m\n\u001b[1;32m    665\u001b[0m     timeout: \u001b[38;5;28mfloat\u001b[39m \u001b[38;5;241m|\u001b[39m httpx\u001b[38;5;241m.\u001b[39mTimeout \u001b[38;5;241m|\u001b[39m \u001b[38;5;28;01mNone\u001b[39;00m \u001b[38;5;241m|\u001b[39m NotGiven \u001b[38;5;241m=\u001b[39m NOT_GIVEN,\n\u001b[1;32m    666\u001b[0m ) \u001b[38;5;241m-\u001b[39m\u001b[38;5;241m>\u001b[39m ChatCompletion \u001b[38;5;241m|\u001b[39m Stream[ChatCompletionChunk]:\n\u001b[1;32m    667\u001b[0m     validate_response_format(response_format)\n\u001b[0;32m--> 668\u001b[0m     \u001b[38;5;28;01mreturn\u001b[39;00m \u001b[38;5;28;43mself\u001b[39;49m\u001b[38;5;241;43m.\u001b[39;49m\u001b[43m_post\u001b[49m\u001b[43m(\u001b[49m\n\u001b[1;32m    669\u001b[0m \u001b[43m        \u001b[49m\u001b[38;5;124;43m\"\u001b[39;49m\u001b[38;5;124;43m/chat/completions\u001b[39;49m\u001b[38;5;124;43m\"\u001b[39;49m\u001b[43m,\u001b[49m\n\u001b[1;32m    670\u001b[0m \u001b[43m        \u001b[49m\u001b[43mbody\u001b[49m\u001b[38;5;241;43m=\u001b[39;49m\u001b[43mmaybe_transform\u001b[49m\u001b[43m(\u001b[49m\n\u001b[1;32m    671\u001b[0m \u001b[43m            \u001b[49m\u001b[43m{\u001b[49m\n\u001b[1;32m    672\u001b[0m \u001b[43m                \u001b[49m\u001b[38;5;124;43m\"\u001b[39;49m\u001b[38;5;124;43mmessages\u001b[39;49m\u001b[38;5;124;43m\"\u001b[39;49m\u001b[43m:\u001b[49m\u001b[43m \u001b[49m\u001b[43mmessages\u001b[49m\u001b[43m,\u001b[49m\n\u001b[1;32m    673\u001b[0m \u001b[43m                \u001b[49m\u001b[38;5;124;43m\"\u001b[39;49m\u001b[38;5;124;43mmodel\u001b[39;49m\u001b[38;5;124;43m\"\u001b[39;49m\u001b[43m:\u001b[49m\u001b[43m \u001b[49m\u001b[43mmodel\u001b[49m\u001b[43m,\u001b[49m\n\u001b[1;32m    674\u001b[0m \u001b[43m                \u001b[49m\u001b[38;5;124;43m\"\u001b[39;49m\u001b[38;5;124;43mfrequency_penalty\u001b[39;49m\u001b[38;5;124;43m\"\u001b[39;49m\u001b[43m:\u001b[49m\u001b[43m \u001b[49m\u001b[43mfrequency_penalty\u001b[49m\u001b[43m,\u001b[49m\n\u001b[1;32m    675\u001b[0m \u001b[43m                \u001b[49m\u001b[38;5;124;43m\"\u001b[39;49m\u001b[38;5;124;43mfunction_call\u001b[39;49m\u001b[38;5;124;43m\"\u001b[39;49m\u001b[43m:\u001b[49m\u001b[43m \u001b[49m\u001b[43mfunction_call\u001b[49m\u001b[43m,\u001b[49m\n\u001b[1;32m    676\u001b[0m \u001b[43m                \u001b[49m\u001b[38;5;124;43m\"\u001b[39;49m\u001b[38;5;124;43mfunctions\u001b[39;49m\u001b[38;5;124;43m\"\u001b[39;49m\u001b[43m:\u001b[49m\u001b[43m \u001b[49m\u001b[43mfunctions\u001b[49m\u001b[43m,\u001b[49m\n\u001b[1;32m    677\u001b[0m \u001b[43m                \u001b[49m\u001b[38;5;124;43m\"\u001b[39;49m\u001b[38;5;124;43mlogit_bias\u001b[39;49m\u001b[38;5;124;43m\"\u001b[39;49m\u001b[43m:\u001b[49m\u001b[43m \u001b[49m\u001b[43mlogit_bias\u001b[49m\u001b[43m,\u001b[49m\n\u001b[1;32m    678\u001b[0m \u001b[43m                \u001b[49m\u001b[38;5;124;43m\"\u001b[39;49m\u001b[38;5;124;43mlogprobs\u001b[39;49m\u001b[38;5;124;43m\"\u001b[39;49m\u001b[43m:\u001b[49m\u001b[43m \u001b[49m\u001b[43mlogprobs\u001b[49m\u001b[43m,\u001b[49m\n\u001b[1;32m    679\u001b[0m \u001b[43m                \u001b[49m\u001b[38;5;124;43m\"\u001b[39;49m\u001b[38;5;124;43mmax_tokens\u001b[39;49m\u001b[38;5;124;43m\"\u001b[39;49m\u001b[43m:\u001b[49m\u001b[43m \u001b[49m\u001b[43mmax_tokens\u001b[49m\u001b[43m,\u001b[49m\n\u001b[1;32m    680\u001b[0m \u001b[43m                \u001b[49m\u001b[38;5;124;43m\"\u001b[39;49m\u001b[38;5;124;43mn\u001b[39;49m\u001b[38;5;124;43m\"\u001b[39;49m\u001b[43m:\u001b[49m\u001b[43m \u001b[49m\u001b[43mn\u001b[49m\u001b[43m,\u001b[49m\n\u001b[1;32m    681\u001b[0m \u001b[43m                \u001b[49m\u001b[38;5;124;43m\"\u001b[39;49m\u001b[38;5;124;43mparallel_tool_calls\u001b[39;49m\u001b[38;5;124;43m\"\u001b[39;49m\u001b[43m:\u001b[49m\u001b[43m \u001b[49m\u001b[43mparallel_tool_calls\u001b[49m\u001b[43m,\u001b[49m\n\u001b[1;32m    682\u001b[0m \u001b[43m                \u001b[49m\u001b[38;5;124;43m\"\u001b[39;49m\u001b[38;5;124;43mpresence_penalty\u001b[39;49m\u001b[38;5;124;43m\"\u001b[39;49m\u001b[43m:\u001b[49m\u001b[43m \u001b[49m\u001b[43mpresence_penalty\u001b[49m\u001b[43m,\u001b[49m\n\u001b[1;32m    683\u001b[0m \u001b[43m                \u001b[49m\u001b[38;5;124;43m\"\u001b[39;49m\u001b[38;5;124;43mresponse_format\u001b[39;49m\u001b[38;5;124;43m\"\u001b[39;49m\u001b[43m:\u001b[49m\u001b[43m \u001b[49m\u001b[43mresponse_format\u001b[49m\u001b[43m,\u001b[49m\n\u001b[1;32m    684\u001b[0m \u001b[43m                \u001b[49m\u001b[38;5;124;43m\"\u001b[39;49m\u001b[38;5;124;43mseed\u001b[39;49m\u001b[38;5;124;43m\"\u001b[39;49m\u001b[43m:\u001b[49m\u001b[43m \u001b[49m\u001b[43mseed\u001b[49m\u001b[43m,\u001b[49m\n\u001b[1;32m    685\u001b[0m \u001b[43m                \u001b[49m\u001b[38;5;124;43m\"\u001b[39;49m\u001b[38;5;124;43mservice_tier\u001b[39;49m\u001b[38;5;124;43m\"\u001b[39;49m\u001b[43m:\u001b[49m\u001b[43m \u001b[49m\u001b[43mservice_tier\u001b[49m\u001b[43m,\u001b[49m\n\u001b[1;32m    686\u001b[0m \u001b[43m                \u001b[49m\u001b[38;5;124;43m\"\u001b[39;49m\u001b[38;5;124;43mstop\u001b[39;49m\u001b[38;5;124;43m\"\u001b[39;49m\u001b[43m:\u001b[49m\u001b[43m \u001b[49m\u001b[43mstop\u001b[49m\u001b[43m,\u001b[49m\n\u001b[1;32m    687\u001b[0m \u001b[43m                \u001b[49m\u001b[38;5;124;43m\"\u001b[39;49m\u001b[38;5;124;43mstream\u001b[39;49m\u001b[38;5;124;43m\"\u001b[39;49m\u001b[43m:\u001b[49m\u001b[43m \u001b[49m\u001b[43mstream\u001b[49m\u001b[43m,\u001b[49m\n\u001b[1;32m    688\u001b[0m \u001b[43m                \u001b[49m\u001b[38;5;124;43m\"\u001b[39;49m\u001b[38;5;124;43mstream_options\u001b[39;49m\u001b[38;5;124;43m\"\u001b[39;49m\u001b[43m:\u001b[49m\u001b[43m \u001b[49m\u001b[43mstream_options\u001b[49m\u001b[43m,\u001b[49m\n\u001b[1;32m    689\u001b[0m \u001b[43m                \u001b[49m\u001b[38;5;124;43m\"\u001b[39;49m\u001b[38;5;124;43mtemperature\u001b[39;49m\u001b[38;5;124;43m\"\u001b[39;49m\u001b[43m:\u001b[49m\u001b[43m \u001b[49m\u001b[43mtemperature\u001b[49m\u001b[43m,\u001b[49m\n\u001b[1;32m    690\u001b[0m \u001b[43m                \u001b[49m\u001b[38;5;124;43m\"\u001b[39;49m\u001b[38;5;124;43mtool_choice\u001b[39;49m\u001b[38;5;124;43m\"\u001b[39;49m\u001b[43m:\u001b[49m\u001b[43m \u001b[49m\u001b[43mtool_choice\u001b[49m\u001b[43m,\u001b[49m\n\u001b[1;32m    691\u001b[0m \u001b[43m                \u001b[49m\u001b[38;5;124;43m\"\u001b[39;49m\u001b[38;5;124;43mtools\u001b[39;49m\u001b[38;5;124;43m\"\u001b[39;49m\u001b[43m:\u001b[49m\u001b[43m \u001b[49m\u001b[43mtools\u001b[49m\u001b[43m,\u001b[49m\n\u001b[1;32m    692\u001b[0m \u001b[43m                \u001b[49m\u001b[38;5;124;43m\"\u001b[39;49m\u001b[38;5;124;43mtop_logprobs\u001b[39;49m\u001b[38;5;124;43m\"\u001b[39;49m\u001b[43m:\u001b[49m\u001b[43m \u001b[49m\u001b[43mtop_logprobs\u001b[49m\u001b[43m,\u001b[49m\n\u001b[1;32m    693\u001b[0m \u001b[43m                \u001b[49m\u001b[38;5;124;43m\"\u001b[39;49m\u001b[38;5;124;43mtop_p\u001b[39;49m\u001b[38;5;124;43m\"\u001b[39;49m\u001b[43m:\u001b[49m\u001b[43m \u001b[49m\u001b[43mtop_p\u001b[49m\u001b[43m,\u001b[49m\n\u001b[1;32m    694\u001b[0m \u001b[43m                \u001b[49m\u001b[38;5;124;43m\"\u001b[39;49m\u001b[38;5;124;43muser\u001b[39;49m\u001b[38;5;124;43m\"\u001b[39;49m\u001b[43m:\u001b[49m\u001b[43m \u001b[49m\u001b[43muser\u001b[49m\u001b[43m,\u001b[49m\n\u001b[1;32m    695\u001b[0m \u001b[43m            \u001b[49m\u001b[43m}\u001b[49m\u001b[43m,\u001b[49m\n\u001b[1;32m    696\u001b[0m \u001b[43m            \u001b[49m\u001b[43mcompletion_create_params\u001b[49m\u001b[38;5;241;43m.\u001b[39;49m\u001b[43mCompletionCreateParams\u001b[49m\u001b[43m,\u001b[49m\n\u001b[1;32m    697\u001b[0m \u001b[43m        \u001b[49m\u001b[43m)\u001b[49m\u001b[43m,\u001b[49m\n\u001b[1;32m    698\u001b[0m \u001b[43m        \u001b[49m\u001b[43moptions\u001b[49m\u001b[38;5;241;43m=\u001b[39;49m\u001b[43mmake_request_options\u001b[49m\u001b[43m(\u001b[49m\n\u001b[1;32m    699\u001b[0m \u001b[43m            \u001b[49m\u001b[43mextra_headers\u001b[49m\u001b[38;5;241;43m=\u001b[39;49m\u001b[43mextra_headers\u001b[49m\u001b[43m,\u001b[49m\u001b[43m \u001b[49m\u001b[43mextra_query\u001b[49m\u001b[38;5;241;43m=\u001b[39;49m\u001b[43mextra_query\u001b[49m\u001b[43m,\u001b[49m\u001b[43m \u001b[49m\u001b[43mextra_body\u001b[49m\u001b[38;5;241;43m=\u001b[39;49m\u001b[43mextra_body\u001b[49m\u001b[43m,\u001b[49m\u001b[43m \u001b[49m\u001b[43mtimeout\u001b[49m\u001b[38;5;241;43m=\u001b[39;49m\u001b[43mtimeout\u001b[49m\n\u001b[1;32m    700\u001b[0m \u001b[43m        \u001b[49m\u001b[43m)\u001b[49m\u001b[43m,\u001b[49m\n\u001b[1;32m    701\u001b[0m \u001b[43m        \u001b[49m\u001b[43mcast_to\u001b[49m\u001b[38;5;241;43m=\u001b[39;49m\u001b[43mChatCompletion\u001b[49m\u001b[43m,\u001b[49m\n\u001b[1;32m    702\u001b[0m \u001b[43m        \u001b[49m\u001b[43mstream\u001b[49m\u001b[38;5;241;43m=\u001b[39;49m\u001b[43mstream\u001b[49m\u001b[43m \u001b[49m\u001b[38;5;129;43;01mor\u001b[39;49;00m\u001b[43m \u001b[49m\u001b[38;5;28;43;01mFalse\u001b[39;49;00m\u001b[43m,\u001b[49m\n\u001b[1;32m    703\u001b[0m \u001b[43m        \u001b[49m\u001b[43mstream_cls\u001b[49m\u001b[38;5;241;43m=\u001b[39;49m\u001b[43mStream\u001b[49m\u001b[43m[\u001b[49m\u001b[43mChatCompletionChunk\u001b[49m\u001b[43m]\u001b[49m\u001b[43m,\u001b[49m\n\u001b[1;32m    704\u001b[0m \u001b[43m    \u001b[49m\u001b[43m)\u001b[49m\n",
      "File \u001b[0;32m~/miniconda3/envs/find-a-doctor/lib/python3.12/site-packages/openai/_base_client.py:1260\u001b[0m, in \u001b[0;36mSyncAPIClient.post\u001b[0;34m(self, path, cast_to, body, options, files, stream, stream_cls)\u001b[0m\n\u001b[1;32m   1246\u001b[0m \u001b[38;5;28;01mdef\u001b[39;00m \u001b[38;5;21mpost\u001b[39m(\n\u001b[1;32m   1247\u001b[0m     \u001b[38;5;28mself\u001b[39m,\n\u001b[1;32m   1248\u001b[0m     path: \u001b[38;5;28mstr\u001b[39m,\n\u001b[0;32m   (...)\u001b[0m\n\u001b[1;32m   1255\u001b[0m     stream_cls: \u001b[38;5;28mtype\u001b[39m[_StreamT] \u001b[38;5;241m|\u001b[39m \u001b[38;5;28;01mNone\u001b[39;00m \u001b[38;5;241m=\u001b[39m \u001b[38;5;28;01mNone\u001b[39;00m,\n\u001b[1;32m   1256\u001b[0m ) \u001b[38;5;241m-\u001b[39m\u001b[38;5;241m>\u001b[39m ResponseT \u001b[38;5;241m|\u001b[39m _StreamT:\n\u001b[1;32m   1257\u001b[0m     opts \u001b[38;5;241m=\u001b[39m FinalRequestOptions\u001b[38;5;241m.\u001b[39mconstruct(\n\u001b[1;32m   1258\u001b[0m         method\u001b[38;5;241m=\u001b[39m\u001b[38;5;124m\"\u001b[39m\u001b[38;5;124mpost\u001b[39m\u001b[38;5;124m\"\u001b[39m, url\u001b[38;5;241m=\u001b[39mpath, json_data\u001b[38;5;241m=\u001b[39mbody, files\u001b[38;5;241m=\u001b[39mto_httpx_files(files), \u001b[38;5;241m*\u001b[39m\u001b[38;5;241m*\u001b[39moptions\n\u001b[1;32m   1259\u001b[0m     )\n\u001b[0;32m-> 1260\u001b[0m     \u001b[38;5;28;01mreturn\u001b[39;00m cast(ResponseT, \u001b[38;5;28;43mself\u001b[39;49m\u001b[38;5;241;43m.\u001b[39;49m\u001b[43mrequest\u001b[49m\u001b[43m(\u001b[49m\u001b[43mcast_to\u001b[49m\u001b[43m,\u001b[49m\u001b[43m \u001b[49m\u001b[43mopts\u001b[49m\u001b[43m,\u001b[49m\u001b[43m \u001b[49m\u001b[43mstream\u001b[49m\u001b[38;5;241;43m=\u001b[39;49m\u001b[43mstream\u001b[49m\u001b[43m,\u001b[49m\u001b[43m \u001b[49m\u001b[43mstream_cls\u001b[49m\u001b[38;5;241;43m=\u001b[39;49m\u001b[43mstream_cls\u001b[49m\u001b[43m)\u001b[49m)\n",
      "File \u001b[0;32m~/miniconda3/envs/find-a-doctor/lib/python3.12/site-packages/openai/_base_client.py:937\u001b[0m, in \u001b[0;36mSyncAPIClient.request\u001b[0;34m(self, cast_to, options, remaining_retries, stream, stream_cls)\u001b[0m\n\u001b[1;32m    928\u001b[0m \u001b[38;5;28;01mdef\u001b[39;00m \u001b[38;5;21mrequest\u001b[39m(\n\u001b[1;32m    929\u001b[0m     \u001b[38;5;28mself\u001b[39m,\n\u001b[1;32m    930\u001b[0m     cast_to: Type[ResponseT],\n\u001b[0;32m   (...)\u001b[0m\n\u001b[1;32m    935\u001b[0m     stream_cls: \u001b[38;5;28mtype\u001b[39m[_StreamT] \u001b[38;5;241m|\u001b[39m \u001b[38;5;28;01mNone\u001b[39;00m \u001b[38;5;241m=\u001b[39m \u001b[38;5;28;01mNone\u001b[39;00m,\n\u001b[1;32m    936\u001b[0m ) \u001b[38;5;241m-\u001b[39m\u001b[38;5;241m>\u001b[39m ResponseT \u001b[38;5;241m|\u001b[39m _StreamT:\n\u001b[0;32m--> 937\u001b[0m     \u001b[38;5;28;01mreturn\u001b[39;00m \u001b[38;5;28;43mself\u001b[39;49m\u001b[38;5;241;43m.\u001b[39;49m\u001b[43m_request\u001b[49m\u001b[43m(\u001b[49m\n\u001b[1;32m    938\u001b[0m \u001b[43m        \u001b[49m\u001b[43mcast_to\u001b[49m\u001b[38;5;241;43m=\u001b[39;49m\u001b[43mcast_to\u001b[49m\u001b[43m,\u001b[49m\n\u001b[1;32m    939\u001b[0m \u001b[43m        \u001b[49m\u001b[43moptions\u001b[49m\u001b[38;5;241;43m=\u001b[39;49m\u001b[43moptions\u001b[49m\u001b[43m,\u001b[49m\n\u001b[1;32m    940\u001b[0m \u001b[43m        \u001b[49m\u001b[43mstream\u001b[49m\u001b[38;5;241;43m=\u001b[39;49m\u001b[43mstream\u001b[49m\u001b[43m,\u001b[49m\n\u001b[1;32m    941\u001b[0m \u001b[43m        \u001b[49m\u001b[43mstream_cls\u001b[49m\u001b[38;5;241;43m=\u001b[39;49m\u001b[43mstream_cls\u001b[49m\u001b[43m,\u001b[49m\n\u001b[1;32m    942\u001b[0m \u001b[43m        \u001b[49m\u001b[43mremaining_retries\u001b[49m\u001b[38;5;241;43m=\u001b[39;49m\u001b[43mremaining_retries\u001b[49m\u001b[43m,\u001b[49m\n\u001b[1;32m    943\u001b[0m \u001b[43m    \u001b[49m\u001b[43m)\u001b[49m\n",
      "File \u001b[0;32m~/miniconda3/envs/find-a-doctor/lib/python3.12/site-packages/openai/_base_client.py:1026\u001b[0m, in \u001b[0;36m_request\u001b[0;34m(self, cast_to, options, remaining_retries, stream, stream_cls)\u001b[0m\n\u001b[1;32m      0\u001b[0m <Error retrieving source code with stack_data see ipython/ipython#13598>\n",
      "File \u001b[0;32m~/miniconda3/envs/find-a-doctor/lib/python3.12/site-packages/openai/_base_client.py:1075\u001b[0m, in \u001b[0;36m_retry_request\u001b[0;34m(self, options, cast_to, remaining_retries, response_headers, stream, stream_cls)\u001b[0m\n\u001b[1;32m      0\u001b[0m <Error retrieving source code with stack_data see ipython/ipython#13598>\n",
      "File \u001b[0;32m~/miniconda3/envs/find-a-doctor/lib/python3.12/site-packages/openai/_base_client.py:1026\u001b[0m, in \u001b[0;36m_request\u001b[0;34m(self, cast_to, options, remaining_retries, stream, stream_cls)\u001b[0m\n\u001b[1;32m      0\u001b[0m <Error retrieving source code with stack_data see ipython/ipython#13598>\n",
      "File \u001b[0;32m~/miniconda3/envs/find-a-doctor/lib/python3.12/site-packages/openai/_base_client.py:1075\u001b[0m, in \u001b[0;36m_retry_request\u001b[0;34m(self, options, cast_to, remaining_retries, response_headers, stream, stream_cls)\u001b[0m\n\u001b[1;32m      0\u001b[0m <Error retrieving source code with stack_data see ipython/ipython#13598>\n",
      "File \u001b[0;32m~/miniconda3/envs/find-a-doctor/lib/python3.12/site-packages/openai/_base_client.py:1041\u001b[0m, in \u001b[0;36mSyncAPIClient._request\u001b[0;34m(self, cast_to, options, remaining_retries, stream, stream_cls)\u001b[0m\n\u001b[1;32m   1038\u001b[0m         err\u001b[38;5;241m.\u001b[39mresponse\u001b[38;5;241m.\u001b[39mread()\n\u001b[1;32m   1040\u001b[0m     log\u001b[38;5;241m.\u001b[39mdebug(\u001b[38;5;124m\"\u001b[39m\u001b[38;5;124mRe-raising status error\u001b[39m\u001b[38;5;124m\"\u001b[39m)\n\u001b[0;32m-> 1041\u001b[0m     \u001b[38;5;28;01mraise\u001b[39;00m \u001b[38;5;28mself\u001b[39m\u001b[38;5;241m.\u001b[39m_make_status_error_from_response(err\u001b[38;5;241m.\u001b[39mresponse) \u001b[38;5;28;01mfrom\u001b[39;00m \u001b[38;5;28;01mNone\u001b[39;00m\n\u001b[1;32m   1043\u001b[0m \u001b[38;5;28;01mreturn\u001b[39;00m \u001b[38;5;28mself\u001b[39m\u001b[38;5;241m.\u001b[39m_process_response(\n\u001b[1;32m   1044\u001b[0m     cast_to\u001b[38;5;241m=\u001b[39mcast_to,\n\u001b[1;32m   1045\u001b[0m     options\u001b[38;5;241m=\u001b[39moptions,\n\u001b[0;32m   (...)\u001b[0m\n\u001b[1;32m   1049\u001b[0m     retries_taken\u001b[38;5;241m=\u001b[39moptions\u001b[38;5;241m.\u001b[39mget_max_retries(\u001b[38;5;28mself\u001b[39m\u001b[38;5;241m.\u001b[39mmax_retries) \u001b[38;5;241m-\u001b[39m retries,\n\u001b[1;32m   1050\u001b[0m )\n",
      "\u001b[0;31mRateLimitError\u001b[0m: Error code: 429 - {'error': {'message': 'You exceeded your current quota, please check your plan and billing details. For more information on this error, read the docs: https://platform.openai.com/docs/guides/error-codes/api-errors.', 'type': 'insufficient_quota', 'param': None, 'code': 'insufficient_quota'}}"
     ]
    }
   ],
   "source": [
    "evaluations_gpt4o = []\n",
    "\n",
    "for record in tqdm(sample):\n",
    "    question = record['question']\n",
    "    answer_llm = rag(question, model='gpt-4o') \n",
    "\n",
    "    prompt = prompt2_template.format(\n",
    "        question=question,\n",
    "        answer_llm=answer_llm\n",
    "    )\n",
    "\n",
    "    evaluation = llm(prompt)\n",
    "    evaluation = json.loads(evaluation)\n",
    "    \n",
    "    evaluations_gpt35turbo.append((record, answer_llm, evaluation))"
   ]
  },
  {
   "cell_type": "code",
   "execution_count": 101,
   "id": "04e864b5-0061-4ae3-925a-7064fa0394e2",
   "metadata": {},
   "outputs": [],
   "source": [
    "df_eval = pd.DataFrame(evaluations_gpt4o, columns=['record', 'answer', 'evaluation'])\n",
    "\n",
    "df_eval['id'] = df_eval.record.apply(lambda d: d['id'])\n",
    "df_eval['question'] = df_eval.record.apply(lambda d: d['question'])\n",
    "\n",
    "df_eval['relevance'] = df_eval.evaluation.apply(lambda d: d['Relevance'])\n",
    "df_eval['explanation'] = df_eval.evaluation.apply(lambda d: d['Explanation'])\n",
    "\n",
    "del df_eval['record']\n",
    "del df_eval['evaluation']"
   ]
  },
  {
   "cell_type": "code",
   "execution_count": 102,
   "id": "c54ecf16-8859-47a8-8bcc-4226c9214498",
   "metadata": {},
   "outputs": [
    {
     "data": {
      "text/plain": [
       "relevance\n",
       "RELEVANT           168\n",
       "PARTLY_RELEVANT     30\n",
       "NON_RELEVANT         2\n",
       "Name: count, dtype: int64"
      ]
     },
     "execution_count": 102,
     "metadata": {},
     "output_type": "execute_result"
    }
   ],
   "source": [
    "df_eval.relevance.value_counts()"
   ]
  },
  {
   "cell_type": "code",
   "execution_count": 103,
   "id": "9ff27bcc-d843-499b-abf9-ff936303af22",
   "metadata": {},
   "outputs": [
    {
     "data": {
      "text/plain": [
       "relevance\n",
       "RELEVANT           0.84\n",
       "PARTLY_RELEVANT    0.15\n",
       "NON_RELEVANT       0.01\n",
       "Name: proportion, dtype: float64"
      ]
     },
     "execution_count": 103,
     "metadata": {},
     "output_type": "execute_result"
    }
   ],
   "source": [
    "df_eval.relevance.value_counts(normalize=True)"
   ]
  },
  {
   "cell_type": "code",
   "execution_count": 104,
   "id": "ade00f45-1aaf-4236-9452-cdd4bb47fd3d",
   "metadata": {},
   "outputs": [],
   "source": [
    "df_eval.to_csv('../data/rag-eval-gpt-4o.csv', index=False)"
   ]
  },
  {
   "cell_type": "code",
   "execution_count": null,
   "id": "4859cf7a-e4da-4b70-85f9-222a335571c1",
   "metadata": {},
   "outputs": [],
   "source": []
  }
 ],
 "metadata": {
  "kernelspec": {
   "display_name": "Python 3 (ipykernel)",
   "language": "python",
   "name": "python3"
  },
  "language_info": {
   "codemirror_mode": {
    "name": "ipython",
    "version": 3
   },
   "file_extension": ".py",
   "mimetype": "text/x-python",
   "name": "python",
   "nbconvert_exporter": "python",
   "pygments_lexer": "ipython3",
   "version": "3.12.4"
  }
 },
 "nbformat": 4,
 "nbformat_minor": 5
}
