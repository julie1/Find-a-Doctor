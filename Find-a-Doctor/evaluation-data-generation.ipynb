{
 "cells": [
  {
   "cell_type": "code",
   "execution_count": 1,
   "id": "f35b1666-5393-458a-b747-177c1a1525ca",
   "metadata": {},
   "outputs": [],
   "source": [
    "import pandas as pd"
   ]
  },
  {
   "cell_type": "code",
   "execution_count": 4,
   "id": "5a660f99-cd6e-4361-b3ca-f447e53de31c",
   "metadata": {},
   "outputs": [
    {
     "name": "stdout",
     "output_type": "stream",
     "text": [
      "530\n"
     ]
    }
   ],
   "source": [
    "row_number = df.index.get_loc(df[(df['orthopedic_surgeon_surname'] == 'Gross') & (df['orthopedic_surgeon_first_name'].str.contains('Thomas'))].index[0])\n",
    "\n",
    "print(row_number)"
   ]
  },
  {
   "cell_type": "code",
   "execution_count": 2,
   "id": "a88433ad-dcc1-4455-a0df-3006b43c52a0",
   "metadata": {},
   "outputs": [],
   "source": [
    "from openai import OpenAI\n",
    "\n",
    "client = OpenAI()"
   ]
  },
  {
   "cell_type": "code",
   "execution_count": 3,
   "id": "5babe3a1-3d8b-428a-92a8-5fc2285fc494",
   "metadata": {},
   "outputs": [],
   "source": [
    "df = pd.read_csv('./Find-a-Doctor/data/hip_surgeons.csv')\n",
    "documents = df.to_dict(orient='records')"
   ]
  },
  {
   "cell_type": "code",
   "execution_count": 4,
   "id": "0d9752d8-ab2f-48d4-a3d9-fa33edb52c15",
   "metadata": {},
   "outputs": [],
   "source": [
    "prompt_template = \"\"\"\n",
    "You emulate a user of our find a hip surgeon application.\n",
    "Formulate 5 questions this user might ask based on a provided doctor.\n",
    "Make the questions specific to this doctor.\n",
    "The record should contain the answer to the questions, and the questions should\n",
    "be complete and not too short. Use as fewer words as possible from the record. \n",
    "\n",
    "The record:\n",
    "\n",
    "\n",
    "orthopedic_surgeon_first_name: {orthopedic_surgeon_first_name}\n",
    "orthopedic_surgeon_surname: {orthopedic_surgeon_surname}\n",
    "jpg_doctor: {jpg_doctor}\n",
    "numbers_hr: {number_hr}\n",
    "adjusted: {adjusted}\n",
    "number_thr: {number_thr}\n",
    "number_bmhr: {number_bmhr}\n",
    "type_of_hr_prosthesis: {type_of_hr_prosthesis}\n",
    "type_of_thr_prosthesis: {type_of_thr_prosthesis}\n",
    "operational_technique: {operational_technique}\n",
    "anesthetic: {anesthetic}\n",
    "cement_femur_side: {cement_femur_side}\n",
    "this_joint_capsule_saved_all: {this_joint_capsule_saved_all}\n",
    "city: {city}\n",
    "country: {country}\n",
    "patient-reported_positive_outcomes: {patient-reported_positive_outcomes}\n",
    "patient-reported_complications: {patient-reported_complications}\n",
    "cut_muscles_is_fixed_again: {cut_muscles_is_fixed_again}\n",
    "complete_opera_report_is_given: {complete_opera_report_is_given}\n",
    "hr_average_size: {hr_average_size}\n",
    "hr_average_location: {hr_average_location}\n",
    "assesses_x-ray: {assesses_x-ray}\n",
    "x-ray_at_discharge: {x-ray_at_discharge}\n",
    "two-sided_operation: {two-sided_operation}\n",
    "foreign_patients: {foreign_patients}\n",
    "address: {address}\n",
    "street: {street}\n",
    "local: {local}\n",
    "postal_code: {postal_code}\n",
    "phone_normal: {phone_normal}\n",
    "phone_free_of_charge: {phone_free_of_charge}\n",
    "fax: {fax}\n",
    "mobile: {mobile}\n",
    "email: {email}\n",
    "homepage:{homepage}\n",
    "\n",
    "\n",
    "Provide the output in parsable JSON without using code blocks:\n",
    "\n",
    "{{\"questions\": [\"question1\", \"question2\", ..., \"question5\"]}}\n",
    "\"\"\".strip()\n",
    "\n",
    "\n"
   ]
  },
  {
   "cell_type": "code",
   "execution_count": 5,
   "id": "f07f48f9-d611-4a47-bd62-f75731608ad6",
   "metadata": {},
   "outputs": [],
   "source": [
    "prompt = prompt_template.format(**documents[0])"
   ]
  },
  {
   "cell_type": "code",
   "execution_count": 6,
   "id": "de2a1632-4d02-46ff-9ae1-58c9704404b4",
   "metadata": {},
   "outputs": [],
   "source": [
    "def llm(prompt):\n",
    "    response = client.chat.completions.create(\n",
    "        model='gpt-4o-mini',\n",
    "        messages=[{\"role\": \"user\", \"content\": prompt}]\n",
    "    )\n",
    "    \n",
    "    return response.choices[0].message.content"
   ]
  },
  {
   "cell_type": "code",
   "execution_count": 7,
   "id": "6534a160-f763-4d21-8176-4bed6326bbb7",
   "metadata": {},
   "outputs": [],
   "source": [
    "questions = llm(prompt)"
   ]
  },
  {
   "cell_type": "code",
   "execution_count": 8,
   "id": "f7619d05-0e93-4418-bb8e-313eeab8ac28",
   "metadata": {},
   "outputs": [],
   "source": [
    "import json"
   ]
  },
  {
   "cell_type": "code",
   "execution_count": 9,
   "id": "dd42bff8-dfa3-49af-82c9-bcb5c0e8ce3d",
   "metadata": {},
   "outputs": [
    {
     "data": {
      "text/plain": [
       "{'questions': [\"What is Dr. Michael Anderson's specialty and experience in hip surgeries?\",\n",
       "  \"Can you provide the contact information for Dr. Michael Anderson's office in Murdoch?\",\n",
       "  'What types of prostheses does Dr. Anderson typically use for hip replacement surgery?',\n",
       "  'Are there any patient-reported outcomes or complications from surgeries performed by Dr. Anderson?',\n",
       "  'What is the address of the Murdoch University Medical Centre where Dr. Anderson practices?']}"
      ]
     },
     "execution_count": 9,
     "metadata": {},
     "output_type": "execute_result"
    }
   ],
   "source": [
    "json.loads(questions)"
   ]
  },
  {
   "cell_type": "code",
   "execution_count": 10,
   "id": "da0d6db9-9ed8-48a6-b483-ead8786a5fb7",
   "metadata": {},
   "outputs": [],
   "source": [
    "def generate_questions(doc):\n",
    "    prompt = prompt_template.format(**doc)\n",
    "\n",
    "    response = client.chat.completions.create(\n",
    "        model='gpt-4o-mini',\n",
    "        messages=[{\"role\": \"user\", \"content\": prompt}]\n",
    "    )\n",
    "\n",
    "    json_response = response.choices[0].message.content\n",
    "    return json_response"
   ]
  },
  {
   "cell_type": "code",
   "execution_count": 11,
   "id": "d95afcdc-9382-4d75-b0e3-3e7cd72feba8",
   "metadata": {},
   "outputs": [],
   "source": [
    "from tqdm.auto import tqdm"
   ]
  },
  {
   "cell_type": "code",
   "execution_count": 12,
   "id": "9eed0e63-1e1d-449a-89e2-d6c3a8af60ef",
   "metadata": {},
   "outputs": [],
   "source": [
    "results = {}"
   ]
  },
  {
   "cell_type": "code",
   "execution_count": 13,
   "id": "d6420880-03d7-4366-9243-7a4add719f0f",
   "metadata": {},
   "outputs": [
    {
     "data": {
      "application/vnd.jupyter.widget-view+json": {
       "model_id": "d86a7ea9cf974c6a8bdb4c6e330fbe5b",
       "version_major": 2,
       "version_minor": 0
      },
      "text/plain": [
       "  0%|          | 0/1032 [00:00<?, ?it/s]"
      ]
     },
     "metadata": {},
     "output_type": "display_data"
    }
   ],
   "source": [
    "for index, doc in enumerate(tqdm(documents)): \n",
    "    doc_id = index#doc['id']\n",
    "    if doc_id in results:\n",
    "        continue\n",
    "\n",
    "    questions_raw = generate_questions(doc)\n",
    "    questions = json.loads(questions_raw)\n",
    "    results[doc_id] = questions['questions']"
   ]
  },
  {
   "cell_type": "code",
   "execution_count": 14,
   "id": "2bcc6347-80af-499e-9ee6-d346f0e9f067",
   "metadata": {},
   "outputs": [],
   "source": [
    "final_results = []\n",
    "\n",
    "for doc_id, questions in results.items():\n",
    "    for q in questions:\n",
    "        final_results.append((doc_id, q))"
   ]
  },
  {
   "cell_type": "code",
   "execution_count": 15,
   "id": "0037e60a-e338-481e-9845-e3161c881ba3",
   "metadata": {},
   "outputs": [
    {
     "data": {
      "text/plain": [
       "(0, \"What is Dr. Michael Anderson's experience with hip surgeries?\")"
      ]
     },
     "execution_count": 15,
     "metadata": {},
     "output_type": "execute_result"
    }
   ],
   "source": [
    "final_results[0]"
   ]
  },
  {
   "cell_type": "code",
   "execution_count": 16,
   "id": "3e1fac17-dccb-46d7-bade-50166dafbd52",
   "metadata": {},
   "outputs": [],
   "source": [
    "df_results = pd.DataFrame(final_results, columns=['id', 'question'])"
   ]
  },
  {
   "cell_type": "code",
   "execution_count": 17,
   "id": "c64131b0-9cca-488b-a819-320bcd5f9342",
   "metadata": {},
   "outputs": [],
   "source": [
    "df_results.to_csv('./Find-a-Doctor/data/ground-truth-retrieval.csv', index=False)"
   ]
  },
  {
   "cell_type": "code",
   "execution_count": 18,
   "id": "df4e5a91-a049-432d-b5f4-cc4320c27a13",
   "metadata": {},
   "outputs": [
    {
     "name": "stdout",
     "output_type": "stream",
     "text": [
      "id,question\n",
      "0,What is Dr. Michael Anderson's experience with hip surgeries?\n",
      "0,What types of hip replacement prostheses does Dr. Anderson use?\n",
      "0,Are there any reported complications from patients who have undergone surgery with Dr. Anderson?\n",
      "0,What is the location of Dr. Michael Anderson's practice?\n",
      "0,How can I contact Dr. Anderson's office for more information?\n",
      "1,What is Dr. Neil Bergman's experience in performing hip surgeries?\n",
      "1,Can you provide details about the types of prostheses used by Dr. Bergman during hip replacement surgeries?\n",
      "1,Is there a record of any patient-reported complications from surgeries conducted by Dr. Bergman?\n",
      "1,What kind of anesthesia does Dr. Bergman typically use for hip surgeries?\n"
     ]
    }
   ],
   "source": [
    "!head ./Find-a-Doctor/data/ground-truth-retrieval.csv"
   ]
  },
  {
   "cell_type": "code",
   "execution_count": null,
   "id": "f1f87a34-e06b-4393-95ff-4d587c09afd7",
   "metadata": {},
   "outputs": [],
   "source": []
  }
 ],
 "metadata": {
  "kernelspec": {
   "display_name": "Python 3 (ipykernel)",
   "language": "python",
   "name": "python3"
  },
  "language_info": {
   "codemirror_mode": {
    "name": "ipython",
    "version": 3
   },
   "file_extension": ".py",
   "mimetype": "text/x-python",
   "name": "python",
   "nbconvert_exporter": "python",
   "pygments_lexer": "ipython3",
   "version": "3.12.4"
  }
 },
 "nbformat": 4,
 "nbformat_minor": 5
}
